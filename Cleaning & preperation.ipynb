{
 "cells": [
  {
   "cell_type": "markdown",
   "id": "6152f24e-5e25-4120-acf2-397bfc99585d",
   "metadata": {},
   "source": [
    "### Importing Libraries and Reading CSV Files"
   ]
  },
  {
   "cell_type": "code",
   "execution_count": 1,
   "id": "7cef6521-75c6-40a4-bd08-c678a7f7853a",
   "metadata": {},
   "outputs": [],
   "source": [
    "import pandas as pd\n",
    "\n",
    "df_2019 = pd.read_csv(\"2019.csv\")\n",
    "df_2020_2021 = pd.read_csv(\"2020-2021.csv\")\n",
    "df_2022_2023 = pd.read_csv(\"2022-2023.csv\")"
   ]
  },
  {
   "cell_type": "markdown",
   "id": "fe3d46ca-8e36-4cba-b0ac-a06fe5115700",
   "metadata": {},
   "source": [
    "### Merging  Files"
   ]
  },
  {
   "cell_type": "code",
   "execution_count": 2,
   "id": "ed5c6ebe-3a38-44bc-8d62-7d45c500a945",
   "metadata": {},
   "outputs": [],
   "source": [
    "df_all = pd.concat([df_2019, df_2020_2021, df_2022_2023], ignore_index=True)"
   ]
  },
  {
   "cell_type": "code",
   "execution_count": 3,
   "id": "8eae9aee-84c9-48be-b25b-6a22e87cf07e",
   "metadata": {},
   "outputs": [
    {
     "name": "stdout",
     "output_type": "stream",
     "text": [
      "(112808, 16)\n",
      "   Year App.                 Taxon     Class          Order         Family  \\\n",
      "0  2019    I  Haliaeetus albicilla      Aves  Falconiformes   Accipitridae   \n",
      "1  2019    I        Harpia harpyja      Aves  Falconiformes   Accipitridae   \n",
      "2  2019    I        Harpia harpyja      Aves  Falconiformes   Accipitridae   \n",
      "3  2019    I        Harpia harpyja      Aves  Falconiformes   Accipitridae   \n",
      "4  2019    I    Alligator sinensis  Reptilia     Crocodylia  Alligatoridae   \n",
      "\n",
      "        Genus Importer Exporter Origin  Importer reported quantity  \\\n",
      "0  Haliaeetus       IS       DK     XX                         NaN   \n",
      "1      Harpia       FR       CH     MO                        2.66   \n",
      "2      Harpia       FR       CH     XX                         NaN   \n",
      "3      Harpia       TT       SR    NaN                         NaN   \n",
      "4   Alligator       CH       SI     US                         NaN   \n",
      "\n",
      "   Exporter reported quantity                      Term                 Unit  \\\n",
      "0                        30.0                 specimens                  NaN   \n",
      "1                         NaN                  feathers                  NaN   \n",
      "2                         2.0                  feathers  Number of specimens   \n",
      "3                         1.0                  feathers                  NaN   \n",
      "4                        11.0  leather products (small)                  NaN   \n",
      "\n",
      "  Purpose Source  \n",
      "0       S      W  \n",
      "1       E      U  \n",
      "2       Q      U  \n",
      "3       E      W  \n",
      "4       T      W  \n"
     ]
    }
   ],
   "source": [
    "print(df_all.shape)\n",
    "print(df_all.head())"
   ]
  },
  {
   "cell_type": "code",
   "execution_count": 4,
   "id": "05d75b4a-cb43-45eb-bfc9-5190f61cdfb9",
   "metadata": {},
   "outputs": [],
   "source": [
    "### Cleaning "
   ]
  },
  {
   "cell_type": "markdown",
   "id": "207b6298-21ae-4766-999c-afecbc179c74",
   "metadata": {},
   "source": [
    "#### This step avoids confusion with actual country codes like `NA` (Namibia) by explicitly marking missing values."
   ]
  },
  {
   "cell_type": "code",
   "execution_count": 5,
   "id": "37f8d4f2-c07e-4731-a440-e580d4070b29",
   "metadata": {},
   "outputs": [],
   "source": [
    "df_2019 = pd.read_csv(\"2019.csv\", keep_default_na=False, na_values=[\"\", \" \", \"null\", \"NULL\", \"NaN\", \"nan\", \"N/A\"], dtype=str)\n",
    "df_2020_2021 = pd.read_csv(\"2020-2021.csv\", keep_default_na=False, na_values=[\"\", \" \", \"null\", \"NULL\", \"NaN\", \"nan\", \"N/A\"], dtype=str)\n",
    "df_2022_2023 = pd.read_csv(\"2022-2023.csv\", keep_default_na=False, na_values=[\"\", \" \", \"null\", \"NULL\", \"NaN\", \"nan\", \"N/A\"], dtype=str)\n",
    "df_all = pd.concat([df_2019, df_2020_2021, df_2022_2023], ignore_index=True)\n",
    "cols = [\"Origin\", \"Exporter\", \"Importer\"]\n",
    "for col in cols:\n",
    "    df_all[col] = df_all[col].apply(lambda x: pd.NA if x == \"\" else x.strip() if isinstance(x, str) else x)"
   ]
  },
  {
   "cell_type": "markdown",
   "id": "b54aa540-c042-48df-8cc0-a539eca997d5",
   "metadata": {},
   "source": [
    "#### Checking Missing Values in the Dataset\n"
   ]
  },
  {
   "cell_type": "code",
   "execution_count": 6,
   "id": "3e5a944b-c4b0-423b-ac3d-979ce58878dc",
   "metadata": {},
   "outputs": [
    {
     "data": {
      "text/plain": [
       "Year                              0\n",
       "App.                              0\n",
       "Taxon                             0\n",
       "Class                             2\n",
       "Order                            32\n",
       "Family                         1529\n",
       "Genus                          1743\n",
       "Importer                          0\n",
       "Exporter                          0\n",
       "Origin                        66900\n",
       "Importer reported quantity    56267\n",
       "Exporter reported quantity    37167\n",
       "Term                              0\n",
       "Unit                          36068\n",
       "Purpose                        1571\n",
       "Source                         2151\n",
       "dtype: int64"
      ]
     },
     "execution_count": 6,
     "metadata": {},
     "output_type": "execute_result"
    }
   ],
   "source": [
    "df_all.isna().sum()"
   ]
  },
  {
   "cell_type": "code",
   "execution_count": 7,
   "id": "2bf18200-db25-420f-bf76-25ce30b4f4e5",
   "metadata": {},
   "outputs": [
    {
     "name": "stdout",
     "output_type": "stream",
     "text": [
      "          Taxon Class\n",
      "1019   Chordata   NaN\n",
      "25145  Cnidaria   NaN\n",
      "Total missing Class: 2\n"
     ]
    }
   ],
   "source": [
    "missing_class = df_all[df_all[\"Class\"].isna()][[\"Taxon\", \"Class\"]]\n",
    "print(missing_class.head(20))\n",
    "print(\"Total missing Class:\", missing_class.shape[0])"
   ]
  },
  {
   "cell_type": "code",
   "execution_count": 8,
   "id": "51e97169-b2c7-4efd-bb01-d7d5e398cdb3",
   "metadata": {},
   "outputs": [
    {
     "name": "stdout",
     "output_type": "stream",
     "text": [
      "Quantity column updated with CITES Gross Trade methodology\n",
      "Records updated: 112808\n"
     ]
    }
   ],
   "source": [
    "import numpy as np\n",
    "import pandas as pd\n",
    "\n",
    "\n",
    "df_all[\"Importer reported quantity\"] = pd.to_numeric(\n",
    "    df_all[\"Importer reported quantity\"], errors='coerce'\n",
    ").fillna(0)\n",
    "\n",
    "df_all[\"Exporter reported quantity\"] = pd.to_numeric(\n",
    "    df_all[\"Exporter reported quantity\"], errors='coerce'\n",
    ").fillna(0)\n",
    "\n",
    "df_all[\"Reported_Quantity\"] = np.maximum(\n",
    "    df_all[\"Importer reported quantity\"],\n",
    "    df_all[\"Exporter reported quantity\"]\n",
    ")\n",
    "\n",
    "print(\"Quantity column updated with CITES Gross Trade methodology\")\n",
    "print(f\"Records updated: {len(df_all)}\")"
   ]
  },
  {
   "cell_type": "code",
   "execution_count": 9,
   "id": "25ac1ddf-186c-496f-a1da-05cc770ad5d5",
   "metadata": {},
   "outputs": [
    {
     "name": "stdout",
     "output_type": "stream",
     "text": [
      "Chordata : None\n",
      "Cnidaria : None\n"
     ]
    }
   ],
   "source": [
    "import requests\n",
    "\n",
    "api_key = \"BLQkdzEKs2ejg4WMA87uSgtt\"\n",
    "\n",
    "def get_class(taxon_name):\n",
    "    url = f\"https://api.speciesplus.net/v2/taxa?search={taxon_name}\"\n",
    "    headers = {\"Authorization\": f\"Bearer {api_key}\"}\n",
    "    resp = requests.get(url, headers=headers)\n",
    "    if resp.status_code == 200:\n",
    "        results = resp.json().get(\"results\", [])\n",
    "        if results:\n",
    "            return results[0].get(\"class\")\n",
    "    return None\n",
    "\n",
    "taxa = [\"Chordata\", \"Cnidaria\"]\n",
    "\n",
    "for taxon in taxa:\n",
    "    taxon_class = get_class(taxon)\n",
    "    print(taxon, \":\", taxon_class)\n"
   ]
  },
  {
   "cell_type": "markdown",
   "id": "73992fa3-2ef0-423a-980e-1de920876f92",
   "metadata": {},
   "source": [
    "**Rows where Taxon was a higher-level or ambiguous group (\"Chordata\" or \"Cnidaria\") were removed because their Class cannot be accurately determined. Verification was done using the Species+ API and the CITES checklist.**"
   ]
  },
  {
   "cell_type": "code",
   "execution_count": 10,
   "id": "2ab46e2b-a24b-4674-9f7c-5cb47409f167",
   "metadata": {},
   "outputs": [],
   "source": [
    "taxa_to_remove = [\"Chordata\", \"Cnidaria\"]\n",
    "df_all = df_all[~df_all[\"Taxon\"].isin(taxa_to_remove)].reset_index(drop=True)\n"
   ]
  },
  {
   "cell_type": "code",
   "execution_count": 11,
   "id": "61926167-4c5a-4e88-a523-5d944f486059",
   "metadata": {},
   "outputs": [
    {
     "data": {
      "text/plain": [
       "Year                              0\n",
       "App.                              0\n",
       "Taxon                             0\n",
       "Class                             0\n",
       "Order                            30\n",
       "Family                         1527\n",
       "Genus                          1741\n",
       "Importer                          0\n",
       "Exporter                          0\n",
       "Origin                        66898\n",
       "Importer reported quantity        0\n",
       "Exporter reported quantity        0\n",
       "Term                              0\n",
       "Unit                          36067\n",
       "Purpose                        1570\n",
       "Source                         2151\n",
       "Reported_Quantity                 0\n",
       "dtype: int64"
      ]
     },
     "execution_count": 11,
     "metadata": {},
     "output_type": "execute_result"
    }
   ],
   "source": [
    "df_all.isna().sum()"
   ]
  },
  {
   "cell_type": "code",
   "execution_count": 12,
   "id": "3bcf06e6-f421-4148-8621-4bd19892f5b9",
   "metadata": {},
   "outputs": [
    {
     "name": "stdout",
     "output_type": "stream",
     "text": [
      "['Aves' 'Reptilia' 'Mammalia' 'Amphibia' 'Gastropoda' 'Elasmobranchii'\n",
      " 'Actinopteri' 'Anthozoa' 'Hirudinoidea' 'Hydrozoa' 'Cephalopoda'\n",
      " 'Insecta' 'Arachnida' 'Bivalvia' 'Holothuroidea' 'Coelacanthi'\n",
      " 'Dipneusti']\n"
     ]
    }
   ],
   "source": [
    "unique_classes = df_all[\"Class\"].dropna().unique()\n",
    "print(unique_classes)\n"
   ]
  },
  {
   "cell_type": "code",
   "execution_count": 13,
   "id": "e574e9f9-9c7e-4388-9d73-813596234cd1",
   "metadata": {},
   "outputs": [],
   "source": [
    "class_dict = {\n",
    "    'Aves': 'Birds',\n",
    "    'Reptilia': 'Reptiles',\n",
    "    'Mammalia': 'Mammals',\n",
    "    'Amphibia': 'Amphibians',\n",
    "    'Gastropoda': 'Gastropods',\n",
    "    'Elasmobranchii': 'Sharks and Rays',\n",
    "    'Actinopteri': 'Ray-finned Fishes',\n",
    "    'Anthozoa': 'Corals',\n",
    "    'Hirudinoidea': 'Leeches',\n",
    "    'Hydrozoa': 'Hydroids',\n",
    "    'Cephalopoda': 'Cephalopods',\n",
    "    'Insecta': 'Insects',\n",
    "    'Arachnida': 'Arachnids',\n",
    "    'Bivalvia': 'Bivalves',\n",
    "    'Holothuroidea': 'Sea Cucumbers',\n",
    "    'Coelacanthi': 'Coelacanths',\n",
    "    'Dipneusti': 'Lungfishes'\n",
    "}\n",
    "\n",
    "df_all['Class_EN'] = df_all['Class'].map(class_dict)"
   ]
  },
  {
   "cell_type": "code",
   "execution_count": 14,
   "id": "908faf65-c022-43f5-9145-691bba367aad",
   "metadata": {},
   "outputs": [
    {
     "name": "stdout",
     "output_type": "stream",
     "text": [
      "['XX' 'MO' nan 'US' 'GB' 'NZ' 'CA' 'GL' 'NA' 'PK' 'ID' 'PE' 'BR' 'CO' 'CU'\n",
      " 'NP' 'CN' 'MM' 'TH' 'AR' 'MG' 'MX' 'PG' 'PA' 'PR' 'TR' 'MV' 'SN' 'MD'\n",
      " 'IN' 'VN' 'BN' 'MY' 'SG' 'KH' 'MZ' 'TZ' 'CD' 'ZA' 'IT' 'ZM' 'KG' 'QA'\n",
      " 'ZW' 'ET' 'SL' 'CG' 'TW' 'LR' 'MU' 'GA' 'GN' 'CM' 'NG' 'GH' 'CI' 'EG'\n",
      " 'GU' 'KE' 'SD' 'GP' 'DE' 'NO' 'FR' 'GY' 'PH' 'AU' 'PW' 'SB' 'CK' 'FJ'\n",
      " 'JP' 'OM' 'TO' 'YE' 'YT' 'ML' 'NE' 'TG' 'BJ' 'VE' 'BO' 'HN' 'NI' 'PY'\n",
      " 'EC' 'MA' 'FM' 'NL' 'CV' 'PT' 'IL' 'SO' 'BS' 'TT' 'JM' 'BB' 'SR' 'RU'\n",
      " 'AZ' 'BW' 'TJ' 'MN' 'KZ' 'GG' 'CL' 'UG' 'KN' 'TD' 'MR' 'AQ' 'MW' 'IS'\n",
      " 'NT' 'IR' 'SE' 'AW' 'BF' 'CF' 'RW' 'BI' 'AO' 'XV' 'BD' 'AI' 'BZ' 'CR'\n",
      " 'DM' 'GT' 'MS' 'SV' 'HS' 'ES' 'NC' 'UY' 'PF' 'BY' 'KM' 'LA' 'KI' 'VC'\n",
      " 'LC' 'DO' 'TC' 'CW' 'SC' 'UZ' 'LB' 'RO' 'HR' 'SS' 'GQ' 'AG' 'UA' 'AT'\n",
      " 'KW' 'BT' 'BE' 'BH' 'CH' 'HK' 'GF' 'ME' 'FO' 'EE' 'VU' 'CZ' 'IM' 'RE'\n",
      " 'TF' 'DJ' 'SA' 'GD' 'SJ' 'FI' 'DK' 'SZ' 'BG' 'GM' 'AE' 'KR' 'RS' 'LK'\n",
      " 'SI' 'AM' 'SK' 'GR' 'JO' 'MK' 'WF' 'WS' 'SH' 'GS' 'TN' 'SY' 'DZ' 'CY'\n",
      " 'JE' 'ST']\n",
      "Number of unique values in Origin: 199\n"
     ]
    }
   ],
   "source": [
    "unique_origins = df_all['Origin'].unique()\n",
    "print(unique_origins)\n",
    "print(f\"Number of unique values in Origin: {len(unique_origins)}\")\n"
   ]
  },
  {
   "cell_type": "code",
   "execution_count": 15,
   "id": "e42b9a73-2a7e-48eb-8120-4ee3d15ac538",
   "metadata": {},
   "outputs": [
    {
     "name": "stdout",
     "output_type": "stream",
     "text": [
      "  Importer          Importer_EN Exporter  Exporter_EN Origin      Origin_EN\n",
      "0       IS              Iceland       DK      Denmark     XX        Unknown\n",
      "1       FR               France       CH  Switzerland     MO          Macau\n",
      "2       FR               France       CH  Switzerland     XX        Unknown\n",
      "3       TT  Trinidad and Tobago       SR     Suriname    NaN            NaN\n",
      "4       CH          Switzerland       SI     Slovenia     US  United States\n"
     ]
    }
   ],
   "source": [
    "country_dict = {\n",
    "\"IS\": \"Iceland\", \"DK\": \"Denmark\", \"FR\": \"France\", \"CH\": \"Switzerland\", \"TT\": \"Trinidad and Tobago\",\n",
    "    \"SR\": \"Suriname\", \"SI\": \"Slovenia\", \"CR\": \"Costa Rica\", \"US\": \"United States\", \"PA\": \"Panama\",\n",
    "    \"PE\": \"Peru\", \"GL\": \"Greenland\", \"GB\": \"United Kingdom\", \"AU\": \"Australia\", \"CA\": \"Canada\",\n",
    "    \"FK\": \"Falkland Islands\", \"CL\": \"Chile\", \"FO\": \"Faroe Islands\", \"NO\": \"Norway\", \"JP\": \"Japan\",\n",
    "    \"BR\": \"Brazil\", \"SN\": \"Senegal\", \"NZ\": \"New Zealand\", \"AQ\": \"Antarctica\", \"MX\": \"Mexico\",\n",
    "    \"PH\": \"Philippines\", \"ZA\": \"South Africa\", \"PT\": \"Portugal\", \"AO\": \"Angola\", \"ES\": \"Spain\",\n",
    "    \"IT\": \"Italy\", \"EC\": \"Ecuador\", \"GS\": \"South Georgia\", \"NL\": \"Netherlands\", \"NC\": \"New Caledonia\",\n",
    "    \"AT\": \"Austria\", \"MZ\": \"Mozambique\", \"XX\": \"Unknown\", \"MG\": \"Madagascar\", \"PK\": \"Pakistan\",\n",
    "    \"TJ\": \"Tajikistan\", \"DE\": \"Germany\", \"RU\": \"Russia\", \"UZ\": \"Uzbekistan\", \"TD\": \"Chad\",\n",
    "    \"TH\": \"Thailand\", \"LB\": \"Lebanon\", \"LA\": \"Laos\", \"SG\": \"Singapore\", \"CM\": \"Cameroon\",\n",
    "    \"HK\": \"Hong Kong\", \"ID\": \"Indonesia\", \"AR\": \"Argentina\", \"BE\": \"Belgium\", \"UA\": \"Ukraine\",\n",
    "    \"JE\": \"Jersey\", \"CD\": \"Democratic Republic of the Congo\", \"GA\": \"Gabon\", \"CO\": \"Colombia\",\n",
    "    \"UY\": \"Uruguay\", \"CN\": \"China\", \"FJ\": \"Fiji\", \"SA\": \"Saudi Arabia\", \"BM\": \"Bermuda\",\n",
    "    \"FM\": \"Micronesia\", \"KY\": \"Cayman Islands\", \"TR\": \"Turkey\", \"KI\": \"Kiribati\", \"TO\": \"Tonga\",\n",
    "    \"AG\": \"Antigua and Barbuda\", \"SV\": \"El Salvador\", \"MV\": \"Maldives\", \"BZ\": \"Belize\",\n",
    "    \"AE\": \"United Arab Emirates\", \"DZ\": \"Algeria\", \"IQ\": \"Iraq\", \"MD\": \"Moldova\", \"TL\": \"Timor-Leste\",\n",
    "    \"MY\": \"Malaysia\", \"VN\": \"Vietnam\", \"KH\": \"Cambodia\", \"SH\": \"Saint Helena\", \"AL\": \"Albania\",\n",
    "    \"DO\": \"Dominican Republic\", \"CU\": \"Cuba\", \"SC\": \"Seychelles\", \"SE\": \"Sweden\", \"LK\": \"Sri Lanka\",\n",
    "    \"TZ\": \"Tanzania\", \"ZM\": \"Zambia\", \"CF\": \"Central African Republic\", \"LR\": \"Liberia\",\n",
    "    \"ZW\": \"Zimbabwe\", \"MC\": \"Monaco\", \"KE\": \"Kenya\", \"TN\": \"Tunisia\", \"LV\": \"Latvia\", \"UG\": \"Uganda\",\n",
    "    \"BW\": \"Botswana\", \"MN\": \"Mongolia\", \"KG\": \"Kyrgyzstan\", \"KZ\": \"Kazakhstan\", \"QA\": \"Qatar\",\n",
    "    \"NE\": \"Niger\", \"BG\": \"Bulgaria\", \"HU\": \"Hungary\", \"CZ\": \"Czech Republic\", \"FI\": \"Finland\",\n",
    "    \"GR\": \"Greece\", \"LT\": \"Lithuania\", \"LU\": \"Luxembourg\", \"MW\": \"Malawi\", \"SK\": \"Slovakia\",\n",
    "    \"SZ\": \"Eswatini\", \"KR\": \"South Korea\", \"OM\": \"Oman\", \"RO\": \"Romania\", \"BD\": \"Bangladesh\",\n",
    "    \"AM\": \"Armenia\", \"ML\": \"Mali\", \"BT\": \"Bhutan\", \"CG\": \"Congo\", \"CI\": \"Côte d'Ivoire\", \"GN\": \"Guinea\",\n",
    "    \"SL\": \"Sierra Leone\", \"GW\": \"Guinea-Bissau\", \"TC\": \"Turks and Caicos Islands\", \"JM\": \"Jamaica\",\n",
    "    \"BS\": \"Bahamas\", \"VG\": \"British Virgin Islands\", \"MM\": \"Myanmar\", \"PG\": \"Papua New Guinea\",\n",
    "    \"LC\": \"Saint Lucia\", \"GT\": \"Guatemala\", \"CW\": \"Curacao\", \"BH\": \"Bahrain\", \"KW\": \"Kuwait\",\n",
    "    \"BB\": \"Barbados\", \"HN\": \"Honduras\", \"SD\": \"Sudan\", \"CY\": \"Cyprus\", \"IR\": \"Iran\", \"LY\": \"Libya\",\n",
    "    \"MA\": \"Morocco\", \"IL\": \"Israel\", \"EG\": \"Egypt\", \"NG\": \"Nigeria\", \"MR\": \"Mauritania\", \"KM\": \"Comoros\",\n",
    "    \"GP\": \"Guadeloupe\", \"SB\": \"Solomon Islands\", \"IM\": \"Isle of Man\", \"LS\": \"Lesotho\", \"GH\": \"Ghana\",\n",
    "    \"RS\": \"Serbia\", \"TW\": \"Taiwan\", \"PF\": \"French Polynesia\", \"PW\": \"Palau\", \"CK\": \"Cook Islands\",\n",
    "    \"IE\": \"Ireland\", \"IN\": \"India\", \"JO\": \"Jordan\", \"MU\": \"Mauritius\", \"KN\": \"Saint Kitts and Nevis\",\n",
    "    \"BQ\": \"Caribbean Netherlands\", \"BN\": \"Brunei\", \"TG\": \"Togo\", \"NI\": \"Nicaragua\", \"AD\": \"Andorra\",\n",
    "    \"GE\": \"Georgia\", \"AW\": \"Aruba\", \"AZ\": \"Azerbaijan\", \"BA\": \"Bosnia and Herzegovina\", \"MO\": \"Macau\",\n",
    "    \"BL\": \"Saint Barthelemy\", \"BO\": \"Bolivia\", \"BV\": \"Bouvet Island\", \"BY\": \"Belarus\", \"MT\": \"Malta\",\n",
    "    \"PY\": \"Paraguay\", \"DM\": \"Dominica\", \"EE\": \"Estonia\", \"ER\": \"Eritrea\", \"ET\": \"Ethiopia\",\n",
    "    \"GD\": \"Grenada\", \"GG\": \"Guernsey\", \"GI\": \"Gibraltar\", \"GQ\": \"Equatorial Guinea\", \"GU\": \"Guam\",\n",
    "    \"GY\": \"Guyana\", \"HR\": \"Croatia\", \"HT\": \"Haiti\", \"LI\": \"Liechtenstein\", \"ME\": \"Montenegro\",\n",
    "    \"MF\": \"Saint Martin\", \"MK\": \"North Macedonia\", \"NP\": \"Nepal\", \"RE\": \"Reunion\", \"SM\": \"San Marino\",\n",
    "    \"SU\": \"Soviet Union\", \"SX\": \"Sint Maarten\", \"TF\": \"French Southern Territories\", \"TM\": \"Turkmenistan\",\n",
    "    \"VA\": \"Vatican City\", \"VE\": \"Venezuela\", \"VI\": \"U.S. Virgin Islands\", \"KP\": \"North Korea\",\n",
    "    \"VU\": \"Vanuatu\", \"YE\": \"Yemen\", \"SY\": \"Syria\", \"SO\": \"Somalia\", \"CV\": \"Cape Verde\",\n",
    "    \"VC\": \"Saint Vincent and the Grenadines\", \"BF\": \"Burkina Faso\", \"RW\": \"Rwanda\", \"AI\": \"Anguilla\",\n",
    "    \"MQ\": \"Martinique\", \"MS\": \"Montserrat\", \"BI\": \"Burundi\", \"MP\": \"Northern Mariana Islands\", \"WS\": \"Samoa\",\n",
    "    \"TK\": \"Tokelau\", \"CC\": \"Cocos Islands\", \"AS\": \"American Samoa\", \"AF\": \"Afghanistan\",\n",
    "    \"EH\": \"Western Sahara\", \"GF\": \"French Guiana\", \"GM\": \"Gambia\", \"MH\": \"Marshall Islands\",\n",
    "    \"SJ\": \"Svalbard and Jan Mayen\", \"ST\": \"Sao Tome and Principe\", \"SS\": \"South Sudan\",\n",
    "    \"PM\": \"Saint Pierre and Miquelon\", \"YT\": \"Mayotte\", \"NA\": \"Namibia\",\n",
    "    \"AX\": \"Åland Islands\", \"BQ\": \"Bonaire, Saint Eustatius and Saba\", \"BV\": \"Bouvet Island\",\n",
    "    \"CP\": \"Clipperton\", \"CX\": \"Christmas Island\", \"HM\": \"Heard and McDonald Islands\",\n",
    "    \"HS\": \"High Seas\", \"NF\": \"Norfolk Island\", \"NR\": \"Nauru\", \"NU\": \"Niue\", \n",
    "    \"PN\": \"Pitcairn Islands\", \"PS\": \"State of Palestine\", \"TV\": \"Tuvalu\",\n",
    "    \"UM\": \"United States Minor Outlying Islands\", \"WF\": \"Wallis and Futuna Islands\",\n",
    "    \"XV\": \"Various\", \"AN\": \"Netherlands Antilles\", \"CS\": \"Former Serbia and Montenegro\",\n",
    "    \"DD\": \"Former East Germany\", \"IO\": \"British Indian Ocean Territory\", \"NT\": \"Neutral Zone\",\n",
    "    \"PC\": \"Former Pacific Trust Territory\", \"XA\": \"French Antilles\", \"XC\": \"Caribbean\",\n",
    "    \"XE\": \"Europe\", \"XF\": \"Africa\", \"XM\": \"South America\", \"XS\": \"Asia\", \n",
    "    \"YU\": \"Former Yugoslavia\", \"ZC\": \"Former Czechoslovakia\", \"ZZ\": \"High seas\"}\n",
    "df_all[\"Importer_EN\"] = df_all[\"Importer\"].map(country_dict).fillna(df_all[\"Importer\"])\n",
    "df_all[\"Exporter_EN\"] = df_all[\"Exporter\"].map(country_dict).fillna(df_all[\"Exporter\"])\n",
    "df_all[\"Origin_EN\"] = df_all[\"Origin\"].map(country_dict).fillna(df_all[\"Origin\"])\n",
    "\n",
    "print(df_all[[\"Importer\", \"Importer_EN\", \"Exporter\", \"Exporter_EN\", \"Origin\", \"Origin_EN\"]].head())\n"
   ]
  },
  {
   "cell_type": "code",
   "execution_count": 16,
   "id": "b4f75764-7f4b-4921-b6a5-11cb8fd53147",
   "metadata": {},
   "outputs": [],
   "source": [
    "df_all[\"Importer_EN\"] = df_all[\"Importer\"].map(country_dict).fillna(df_all[\"Importer\"])\n",
    "df_all[\"Exporter_EN\"] = df_all[\"Exporter\"].map(country_dict).fillna(df_all[\"Exporter\"])\n",
    "df_all[\"Origin_EN\"] = df_all[\"Origin\"].map(country_dict).fillna(df_all[\"Origin\"])"
   ]
  },
  {
   "cell_type": "markdown",
   "id": "f064ba8f-5754-4f93-b0b8-b2a572c853ea",
   "metadata": {},
   "source": [
    "### Replacing Missing Origin_EN with Exporter_EN"
   ]
  },
  {
   "cell_type": "code",
   "execution_count": 17,
   "id": "865592cc-b8cf-4da1-8a84-6fb4cf77706b",
   "metadata": {},
   "outputs": [],
   "source": [
    "    df_all[\"Origin_EN\"] = df_all[\"Origin_EN\"].fillna(df_all[\"Exporter_EN\"])"
   ]
  },
  {
   "cell_type": "markdown",
   "id": "17810fe3-bb6b-4df7-bd44-ed2c03fa3605",
   "metadata": {},
   "source": [
    "## Converting Purpose Codes to English Descriptions"
   ]
  },
  {
   "cell_type": "code",
   "execution_count": 18,
   "id": "277dee7d-ea5d-4946-beb1-3f01c5b052ba",
   "metadata": {},
   "outputs": [
    {
     "name": "stdout",
     "output_type": "stream",
     "text": [
      "  Purpose                       Purpose_EN\n",
      "0       S                       Scientific\n",
      "1       E                      Educational\n",
      "2       Q  Circus or travelling exhibition\n",
      "3       E                      Educational\n",
      "4       T                       Commercial\n",
      "5       S                       Scientific\n",
      "6       S                       Scientific\n",
      "7       S                       Scientific\n",
      "8       S                       Scientific\n",
      "9       S                       Scientific\n"
     ]
    }
   ],
   "source": [
    "purpose_dict = {\n",
    "    \"B\": \"Breeding in captivity or artificial propagation\",\n",
    "    \"E\": \"Educational\",\n",
    "    \"G\": \"Botanical garden\",\n",
    "    \"H\": \"Hunting trophy\",\n",
    "    \"L\": \"Law enforcement/judicial/forensic\",\n",
    "    \"M\": \"Medical (including biomedical research)\",\n",
    "    \"N\": \"Reintroduction or introduction into the wild\",\n",
    "    \"P\": \"Personal\",\n",
    "    \"Q\": \"Circus or travelling exhibition\",\n",
    "    \"S\": \"Scientific\",\n",
    "    \"T\": \"Commercial\",\n",
    "    \"Z\": \"Zoo\"\n",
    "}\n",
    "\n",
    "df_all[\"Purpose_EN\"] = df_all[\"Purpose\"].map(purpose_dict).fillna(df_all[\"Purpose\"])\n",
    "\n",
    "print(df_all[[\"Purpose\", \"Purpose_EN\"]].head(10))\n"
   ]
  },
  {
   "cell_type": "markdown",
   "id": "7c77d996-bdd7-4928-9729-0eb2fb672e4e",
   "metadata": {},
   "source": [
    "## Converting Source Codes to English Descriptions"
   ]
  },
  {
   "cell_type": "code",
   "execution_count": 19,
   "id": "9b2283ab-10a5-4301-9e22-0a1d3b91c33e",
   "metadata": {},
   "outputs": [
    {
     "name": "stdout",
     "output_type": "stream",
     "text": [
      "  Source Source_EN\n",
      "0      W      Wild\n",
      "1      U   unknown\n",
      "2      U   unknown\n",
      "3      W      Wild\n",
      "4      W      Wild\n",
      "5      W      Wild\n",
      "6      W      Wild\n",
      "7      W      Wild\n",
      "8      W      Wild\n",
      "9      W      Wild\n"
     ]
    }
   ],
   "source": [
    "source_dict = {\n",
    "    \"A\": \"Artificially propagated plants\",\n",
    "    \"C\": \"Captive-bred animals\",\n",
    "    \"D\": \"Appendix-I captive-bred / commercial plants\",\n",
    "    \"F\": \"Born in captivity (F1+)\",\n",
    "    \"I\": \"Confiscated/seized\",\n",
    "    \"O\": \"Pre-Convention specimens\",\n",
    "    \"R\": \"Ranched specimens\",\n",
    "    \"U\": \"unknown\",\n",
    "    \"W\": \"Wild\",\n",
    "    \"X\": \"Marine environment\",\n",
    "    \"Y\": \"Assisted production plants\"\n",
    "}\n",
    "\n",
    "df_all[\"Source_EN\"] = df_all[\"Source\"].map(source_dict).fillna(df_all[\"Source\"])\n",
    "\n",
    "print(df_all[[\"Source\", \"Source_EN\"]].head(10))\n"
   ]
  },
  {
   "cell_type": "markdown",
   "id": "19599e28-daea-424c-b083-873d452b5bfb",
   "metadata": {},
   "source": [
    "### Assigning Threat Status and Protection Level Based on CITES Appendix"
   ]
  },
  {
   "cell_type": "markdown",
   "id": "154cf6bc-ec8e-49d0-a007-cc39e27db509",
   "metadata": {},
   "source": [
    "## Explanation\n",
    "\n",
    "### Appendices Overview\n",
    "\n",
    "**Appendix I (I)**  \n",
    "- Species facing the **highest risk of extinction**.  \n",
    "- International trade is **generally prohibited**, except under exceptional circumstances.\n",
    "\n",
    "**Appendix II (II)**  \n",
    "- Species not necessarily threatened with extinction now but may become so **without controlled trade**.  \n",
    "- Trade requires **regulation to avoid overexploitation**.\n",
    "\n",
    "**Appendix III (III)**  \n",
    "- Species protected in at least one country that has requested **assistance from other CITES parties** to control trade.  \n",
    "- Trade is **allowed but monitored**.\n",
    "\n",
    "### New Columns\n",
    "\n",
    "- **Threat_Status**: A short, interpretable description of the species’ risk of extinction.  \n",
    "- **Protection_Level**: A simplified level of legal protection for international trade.\n",
    "\n"
   ]
  },
  {
   "cell_type": "code",
   "execution_count": 20,
   "id": "6b7c20d6-2ad7-4180-a91c-2ff2f041d9a3",
   "metadata": {},
   "outputs": [
    {
     "name": "stdout",
     "output_type": "stream",
     "text": [
      "  App. Threat_Status Protection_Level\n",
      "0    I    Endangered             High\n",
      "1    I    Endangered             High\n",
      "2    I    Endangered             High\n",
      "3    I    Endangered             High\n",
      "4    I    Endangered             High\n"
     ]
    }
   ],
   "source": [
    "app_dict_simple = {\n",
    "    \"I\": {\"Threat_Status\": \"Endangered\", \"Protection_Level\": \"High\"},\n",
    "    \"II\": {\"Threat_Status\": \"Vulnerable\", \"Protection_Level\": \"Medium\"},\n",
    "    \"III\": {\"Threat_Status\": \"Protected\", \"Protection_Level\": \"Low\"}\n",
    "}\n",
    "\n",
    "df_all[\"Threat_Status\"] = df_all[\"App.\"].map(lambda x: app_dict_simple.get(x, {}).get(\"Threat_Status\"))\n",
    "df_all[\"Protection_Level\"] = df_all[\"App.\"].map(lambda x: app_dict_simple.get(x, {}).get(\"Protection_Level\"))\n",
    "\n",
    "print(df_all[[\"App.\", \"Threat_Status\", \"Protection_Level\"]].head())\n"
   ]
  },
  {
   "cell_type": "code",
   "execution_count": 21,
   "id": "a0e3f9df-738c-4d2d-a755-61349f3d407f",
   "metadata": {},
   "outputs": [
    {
     "name": "stdout",
     "output_type": "stream",
     "text": [
      "['Physignathus cocincinus' 'Anas melleri' 'Pterapogon kauderni'\n",
      " 'Elaphe carinata' 'Elaphe radiata' 'Elaphe taeniura' 'Enhydris bocourti'\n",
      " 'Homalopsis buccata' 'Leioheterodon madagascariensis' 'Ptyas korros'\n",
      " 'Columba livia' 'Gallicolumba criniger' 'Conraua goliath'\n",
      " 'Lonchura punctulata' 'Rhacodactylus auriculatus'\n",
      " 'Rhacodactylus ciliatus' 'Rhacodactylus leachianus'\n",
      " 'Teratoscincus scincus' 'Zonosaurus quadrilineatus' 'Haliotis midae'\n",
      " 'Lapemis curtus' 'Hystrix cristata' 'Ctenosaura quinquecarinata'\n",
      " 'Dendrolagus goodfellowi' 'Graphium stresemanni' 'Potamotrygon falkneri'\n",
      " 'Echinotriton andersoni' 'Tylototriton taliangensis'\n",
      " 'Tribolonotus gracilis' 'Tribolonotus novaeguineae' 'Lamprotornis regius'\n",
      " 'Struthio spp.' 'Carduelis carduelis' 'Agalychnis lemur'\n",
      " 'Potamotrygon tigrina' 'Struthio camelus' 'Mergus octosetaceus'\n",
      " 'Atelopus balios' 'Atelopus barbotini' 'Atelopus hoogmoedi'\n",
      " 'Atelopus spumarius']\n"
     ]
    }
   ],
   "source": [
    "missing_n_rows = df_all[df_all[\"App.\"] == \"N\"]\n",
    "unique_missing_n_taxa = missing_n_rows[\"Taxon\"].unique()\n",
    "print(unique_missing_n_taxa)\n"
   ]
  },
  {
   "cell_type": "markdown",
   "id": "5ead773b-3948-403c-a60c-4d8130ac08e8",
   "metadata": {},
   "source": [
    "### Merging Trade Data with Full Species List"
   ]
  },
  {
   "cell_type": "code",
   "execution_count": 22,
   "id": "d26074f2-cc0a-4edb-b726-37c140b50e91",
   "metadata": {},
   "outputs": [],
   "source": [
    "df_species = pd.read_csv(\"Index.csv\", keep_default_na=False)"
   ]
  },
  {
   "cell_type": "code",
   "execution_count": 23,
   "id": "902cf8e6-1a36-4768-96d9-28dfad7752e4",
   "metadata": {},
   "outputs": [
    {
     "name": "stderr",
     "output_type": "stream",
     "text": [
      "C:\\Users\\Lenovo\\AppData\\Local\\Temp\\ipykernel_11192\\383844461.py:1: DtypeWarning: Columns (2,3,29) have mixed types. Specify dtype option on import or set low_memory=False.\n",
      "  df_index = pd.read_csv(\"Index.csv\")\n"
     ]
    },
    {
     "name": "stdout",
     "output_type": "stream",
     "text": [
      "Missing matches: ['Balaenopteridae spp.' 'Boidae spp.' 'Capra falconeri heptneri' ...\n",
      " 'Atelopus barbotini' 'Atelopus hoogmoedi' 'Atelopus spumarius']\n"
     ]
    }
   ],
   "source": [
    "df_index = pd.read_csv(\"Index.csv\")\n",
    "df_index = df_index[['FullName', 'EnglishNames', 'CurrentListing']]\n",
    "df_merged = df_all.merge(df_index, left_on=\"Taxon\", right_on=\"FullName\", how=\"left\")\n",
    "missing = df_merged[df_merged['EnglishNames'].isna()]['Taxon'].unique()\n",
    "print(\"Missing matches:\", missing)\n",
    "df_merged.to_csv(\"trade_data_enriched.csv\", index=False)\n"
   ]
  },
  {
   "cell_type": "code",
   "execution_count": 24,
   "id": "3c34b754-1c4a-4902-98f4-667e160f5a6f",
   "metadata": {},
   "outputs": [
    {
     "name": "stderr",
     "output_type": "stream",
     "text": [
      "C:\\Users\\Lenovo\\AppData\\Local\\Temp\\ipykernel_11192\\517954032.py:1: DtypeWarning: Columns (2,3,29) have mixed types. Specify dtype option on import or set low_memory=False.\n",
      "  index_df = pd.read_csv(\"Index.csv\")\n"
     ]
    },
    {
     "name": "stdout",
     "output_type": "stream",
     "text": [
      "Number of missing taxa: 446\n"
     ]
    }
   ],
   "source": [
    "index_df = pd.read_csv(\"Index.csv\")\n",
    "\n",
    "taxon_all = df_all[\"Taxon\"].unique()\n",
    "taxon_index = index_df[\"FullName\"].unique()\n",
    "\n",
    "missing_taxa = [t for t in taxon_all if t not in taxon_index]\n",
    "print(\"Number of missing taxa:\", len(missing_taxa))"
   ]
  },
  {
   "cell_type": "markdown",
   "id": "d8b6c42e-887a-4ea2-8e9f-b3d92e15788e",
   "metadata": {},
   "source": [
    "## Classifying Terms into Categories"
   ]
  },
  {
   "cell_type": "code",
   "execution_count": 25,
   "id": "7f5c4a3e-b090-4d9e-8ff7-e618640d220a",
   "metadata": {},
   "outputs": [
    {
     "name": "stdout",
     "output_type": "stream",
     "text": [
      "           Term_Group  Count  Percent\n",
      "Manufactured Products  41371    36.67\n",
      "       Live Specimens  37903    33.60\n",
      "       Raw Body Parts  24276    21.52\n",
      "          Unspecified   7801     6.92\n",
      "        Food Products    882     0.78\n",
      "  Processed Materials    573     0.51\n"
     ]
    }
   ],
   "source": [
    "import pandas as pd\n",
    "import re\n",
    "\n",
    "df = df_all.copy()\n",
    "\n",
    "t = df[\"Term\"].fillna(\"\").astype(str).str.strip().str.upper()\n",
    "\n",
    "live_keys = {\"LIVE\",\"EGG (LIVE)\",\"FINGERLINGS\",\"PUPAE\"}\n",
    "\n",
    "raw_keys = [\n",
    "    \"FEATHER\",\"BALEEN\",\"BONE PIECE\",\"PIECE – BONE\",\"PIECE - BONE\",\"BONES\",\"SKINS\",\"SKIN PIECE\",\"SKIN\",\n",
    "    \"SKULL\",\"SKELETON\",\"BODIES\",\"BODY\",\"TEETH\",\"TOOTH\",\"SHELLS\",\"SHELL\",\"SCALES\",\"SCALE\",\"CARAPACE\",\n",
    "    \"TUSKS\",\"TUSK\",\"IVORY PIECE\",\"PIECE – IVORY\",\"PIECE - IVORY\",\"EGGS\",\"EGG\",\"HORNS\",\"HORN\",\"HORN PIECE\",\n",
    "    \"RAW CORAL\",\"CORAL (RAW)\",\"SIDES\",\"SIDE\",\"TAILS\",\"TAIL\",\"FEET\",\"FOOT\",\"CLAWS\",\"CLAW\",\"GALL BLADDERS\",\n",
    "    \"GALL BLADDER\",\"PLATES\",\"PLATE\",\"EARS\",\"EAR\",\"TRUNK\",\"GALL\",\"GILL PLATES\",\"GILL PLATE\",\"FIN (DRIED)\",\n",
    "    \"FIN (WET)\",\"FIN\",\"HAIR\",\"SAWFISH ROSTRUM\",\"GENITALIA\",\"SWIM BLADDERS\"\n",
    "]\n",
    "\n",
    "manuf_keys = [\n",
    "    \"LEATHER PRODUCTS (SMALL)\",\"LEATHER PRODUCT (SMALL)\",\"LPS\",\n",
    "    \"LEATHER PRODUCTS (LARGE)\",\"LEATHER PRODUCT (LARGE)\",\"LPL\",\n",
    "    \"BONE CARVINGS\",\"BONE CARVING\",\"TROPHIES\",\"TROPHY\",\"GARMENTS\",\"GARMENT\",\n",
    "    \"CLOTH\",\"JEWELLERY - IVORY\",\"JEWELRY - IVORY\",\"IVORY CARVINGS\",\"IVORY CARVING\",\n",
    "    \"PIANO KEYS\",\"HORN CARVINGS\",\"HORN CARVING\",\"CARVINGS\",\"CARVING\",\"RUG\",\"COSMETICS\",\n",
    "    \"FUR PRODUCTS (SMALL)\",\"FUR PRODUCTS (LARGE)\",\"HAIR PRODUCTS\",\"JEWELLERY\",\"JEWELRY\"\n",
    "]\n",
    "\n",
    "food_keys = [\"MEAT\",\"CAVIAR\",\"FROG LEGS\"]\n",
    "\n",
    "proc_keys = [\"EXTRACT\",\"POWDER\",\"MUSK\",\"OIL\",\"MEDICINE\",\"DERIVATIVES\",\"FIBRES\",\"FIBERS\",\"PEARL\",\"THREAD\"]\n",
    "\n",
    "def classify_term(x):\n",
    "    u = re.sub(r\"\\s+\", \" \", x).strip().upper()\n",
    "    if u in live_keys:\n",
    "        return \"Live Specimens\"\n",
    "    if u == \"UNSPECIFIED\" or u == \"\":\n",
    "        return \"Unspecified\"\n",
    "    for k in raw_keys:\n",
    "        if k in u:\n",
    "            return \"Raw Body Parts\"\n",
    "    for k in manuf_keys:\n",
    "        if k in u:\n",
    "            return \"Manufactured Products\"\n",
    "    for k in food_keys:\n",
    "        if k in u:\n",
    "            return \"Food Products\"\n",
    "    for k in proc_keys:\n",
    "        if k in u:\n",
    "            return \"Processed Materials\"\n",
    "    return \"Unspecified\"\n",
    "\n",
    "df[\"Term_Group\"] = t.map(classify_term)\n",
    "\n",
    "counts = df[\"Term_Group\"].value_counts(dropna=False)\n",
    "perc = (counts / counts.sum() * 100).round(2)\n",
    "summary = pd.DataFrame({\"Count\": counts, \"Percent\": perc}).reset_index().rename(columns={\"index\":\"Term_Group\"})\n",
    "print(summary.to_string(index=False))"
   ]
  },
  {
   "cell_type": "code",
   "execution_count": 26,
   "id": "3b9f85a4-7a7d-463e-9f33-4b99747c03a4",
   "metadata": {},
   "outputs": [],
   "source": [
    "df_all = df.copy()\n"
   ]
  },
  {
   "cell_type": "code",
   "execution_count": 27,
   "id": "368205eb-29ba-447e-903f-a05e0fd61f74",
   "metadata": {},
   "outputs": [
    {
     "name": "stdout",
     "output_type": "stream",
     "text": [
      "Unique values in App.:\n",
      "I\n",
      "II\n",
      "III\n",
      "N\n",
      "Total: 4\n"
     ]
    }
   ],
   "source": [
    "u = df_all[\"App.\"].dropna().astype(str).str.strip()\n",
    "u = u[u != \"\"]\n",
    "uniq = sorted(u.unique(), key=str.upper)\n",
    "\n",
    "print(\"Unique values in App.:\")\n",
    "for v in uniq:\n",
    "    print(v)\n",
    "print(\"Total:\", len(uniq))\n"
   ]
  },
  {
   "cell_type": "markdown",
   "id": "99bd2822-6f2f-4312-85db-244ba822cba2",
   "metadata": {},
   "source": [
    "### Correcting `App.` Values Using `CurrentListing`"
   ]
  },
  {
   "cell_type": "code",
   "execution_count": 28,
   "id": "a7d2f392-3a21-4800-97ec-10e7b32821c9",
   "metadata": {},
   "outputs": [
    {
     "name": "stdout",
     "output_type": "stream",
     "text": [
      "Number of records to update: 50\n",
      "Number of records with App. no longer 'N': 112397\n",
      "                            Taxon App. CurrentListing  Year\n",
      "26633     Physignathus cocincinus   II             II  2019\n",
      "26634     Physignathus cocincinus   II             II  2019\n",
      "26635     Physignathus cocincinus   II             II  2019\n",
      "26636     Physignathus cocincinus   II             II  2019\n",
      "26637     Physignathus cocincinus   II             II  2019\n",
      "26638     Physignathus cocincinus   II             II  2019\n",
      "26639     Physignathus cocincinus   II             II  2019\n",
      "26754  Ctenosaura quinquecarinata   II             II  2019\n",
      "26755  Ctenosaura quinquecarinata   II             II  2019\n",
      "26756  Ctenosaura quinquecarinata   II             II  2019\n"
     ]
    }
   ],
   "source": [
    "mask_condition = (\n",
    "    (df_merged['App.'] == 'N') & \n",
    "    df_merged['CurrentListing'].notna() & \n",
    "    (df_merged['CurrentListing'] != '') & \n",
    "    (df_merged['CurrentListing'] != 'I/NC')\n",
    ")\n",
    "\n",
    "count_before = mask_condition.sum()\n",
    "print(f\"Number of records to update: {count_before}\")\n",
    "\n",
    "df_merged.loc[mask_condition, 'App.'] = df_merged.loc[mask_condition, 'CurrentListing']\n",
    "\n",
    "count_after = (df_merged['App.'] != 'N').sum()\n",
    "print(f\"Number of records with App. no longer 'N': {count_after}\")\n",
    "\n",
    "if count_before > 0:\n",
    "    updated_sample = df_merged[mask_condition][['Taxon', 'App.', 'CurrentListing', 'Year']].head(10)\n",
    "    print(updated_sample)\n"
   ]
  },
  {
   "cell_type": "code",
   "execution_count": 29,
   "id": "288c24f2-f3dc-4d2b-9724-e2c36ca39bf6",
   "metadata": {},
   "outputs": [
    {
     "name": "stdout",
     "output_type": "stream",
     "text": [
      "Remaining records with App. = 'N': 409\n",
      "Total records: 112806\n",
      "Percentage of remaining 'N': 0.36%\n",
      "\n",
      "CurrentListing values for remaining 'N' records:\n",
      "CurrentListing\n",
      "I/NC    7\n",
      "Name: count, dtype: int64\n",
      "\n",
      "Sample of remaining 'N' records:\n",
      "                     Taxon App. CurrentListing  Year\n",
      "26640         Anas melleri    N            NaN  2019\n",
      "26641         Anas melleri    N            NaN  2019\n",
      "26642  Pterapogon kauderni    N            NaN  2019\n",
      "26643  Pterapogon kauderni    N            NaN  2019\n",
      "26644  Pterapogon kauderni    N            NaN  2019\n",
      "26645  Pterapogon kauderni    N            NaN  2019\n",
      "26646  Pterapogon kauderni    N            NaN  2019\n",
      "26647  Pterapogon kauderni    N            NaN  2019\n",
      "26648  Pterapogon kauderni    N            NaN  2019\n",
      "26649  Pterapogon kauderni    N            NaN  2019\n"
     ]
    }
   ],
   "source": [
    "remaining_n_count = (df_merged['App.'] == 'N').sum()\n",
    "total_records = len(df_merged)\n",
    "\n",
    "print(f\"Remaining records with App. = 'N': {remaining_n_count}\")\n",
    "print(f\"Total records: {total_records}\")\n",
    "print(f\"Percentage of remaining 'N': {(remaining_n_count/total_records)*100:.2f}%\")\n",
    "\n",
    "remaining_n_records = df_merged[df_merged['App.'] == 'N']\n",
    "if len(remaining_n_records) > 0:\n",
    "    print(f\"\\nCurrentListing values for remaining 'N' records:\")\n",
    "    print(remaining_n_records['CurrentListing'].value_counts())\n",
    "    print(f\"\\nSample of remaining 'N' records:\")\n",
    "    print(remaining_n_records[['Taxon', 'App.', 'CurrentListing', 'Year']].head(10))"
   ]
  },
  {
   "cell_type": "markdown",
   "id": "657b546a-06d8-4e28-9338-175e14946e8f",
   "metadata": {},
   "source": [
    "### Removing Rest Records with `App.` = \"N\""
   ]
  },
  {
   "cell_type": "code",
   "execution_count": 30,
   "id": "ba6537a0-7d20-4359-a7bd-edff636c2ebb",
   "metadata": {},
   "outputs": [
    {
     "name": "stdout",
     "output_type": "stream",
     "text": [
      "Records to delete (App. = 'N'): 409\n",
      "Total records before deletion: 112806\n",
      "Total records after deletion: 112397\n",
      "Records deleted: 409\n",
      "Remaining records with App. = 'N': 0\n"
     ]
    }
   ],
   "source": [
    "records_to_delete = (df_merged['App.'] == 'N').sum()\n",
    "total_before = len(df_merged)\n",
    "\n",
    "print(f\"Records to delete (App. = 'N'): {records_to_delete}\")\n",
    "print(f\"Total records before deletion: {total_before}\")\n",
    "\n",
    "df_merged = df_merged[df_merged['App.'] != 'N']\n",
    "\n",
    "total_after = len(df_merged)\n",
    "print(f\"Total records after deletion: {total_after}\")\n",
    "print(f\"Records deleted: {total_before - total_after}\")\n",
    "\n",
    "remaining_n = (df_merged['App.'] == 'N').sum()\n",
    "print(f\"Remaining records with App. = 'N': {remaining_n}\")"
   ]
  },
  {
   "cell_type": "code",
   "execution_count": 31,
   "id": "8b4248b7-5bb3-40f4-9dae-33129d824f7a",
   "metadata": {},
   "outputs": [
    {
     "name": "stdout",
     "output_type": "stream",
     "text": [
      "   Year App.                 Taxon     Class          Order         Family  \\\n",
      "0  2019    I  Haliaeetus albicilla      Aves  Falconiformes   Accipitridae   \n",
      "1  2019    I        Harpia harpyja      Aves  Falconiformes   Accipitridae   \n",
      "2  2019    I        Harpia harpyja      Aves  Falconiformes   Accipitridae   \n",
      "3  2019    I        Harpia harpyja      Aves  Falconiformes   Accipitridae   \n",
      "4  2019    I    Alligator sinensis  Reptilia     Crocodylia  Alligatoridae   \n",
      "\n",
      "        Genus Importer Exporter Origin  ...  Reported_Quantity  Class_EN  \\\n",
      "0  Haliaeetus       IS       DK     XX  ...              30.00     Birds   \n",
      "1      Harpia       FR       CH     MO  ...               2.66     Birds   \n",
      "2      Harpia       FR       CH     XX  ...               2.00     Birds   \n",
      "3      Harpia       TT       SR    NaN  ...               1.00     Birds   \n",
      "4   Alligator       CH       SI     US  ...              11.00  Reptiles   \n",
      "\n",
      "           Importer_EN  Exporter_EN      Origin_EN  \\\n",
      "0              Iceland      Denmark        Unknown   \n",
      "1               France  Switzerland          Macau   \n",
      "2               France  Switzerland        Unknown   \n",
      "3  Trinidad and Tobago     Suriname       Suriname   \n",
      "4          Switzerland     Slovenia  United States   \n",
      "\n",
      "                        Purpose_EN  Source_EN Threat_Status Protection_Level  \\\n",
      "0                       Scientific       Wild    Endangered             High   \n",
      "1                      Educational    unknown    Endangered             High   \n",
      "2  Circus or travelling exhibition    unknown    Endangered             High   \n",
      "3                      Educational       Wild    Endangered             High   \n",
      "4                       Commercial       Wild    Endangered             High   \n",
      "\n",
      "              Term_Group  \n",
      "0            Unspecified  \n",
      "1         Raw Body Parts  \n",
      "2         Raw Body Parts  \n",
      "3         Raw Body Parts  \n",
      "4  Manufactured Products  \n",
      "\n",
      "[5 rows x 26 columns]\n"
     ]
    }
   ],
   "source": [
    "print(df_all.head())"
   ]
  },
  {
   "cell_type": "code",
   "execution_count": 32,
   "id": "68be4ec8-dc36-4805-b5fc-b1b8bcf1b542",
   "metadata": {},
   "outputs": [
    {
     "name": "stdout",
     "output_type": "stream",
     "text": [
      "Records to delete (App. = 'N'): 0\n",
      "Total records before deletion: 112397\n",
      "Total records after deletion: 112397\n",
      "Records deleted: 0\n",
      "Remaining records with App. = 'N': 0\n"
     ]
    }
   ],
   "source": [
    "records_to_delete = (df_merged['App.'] == 'N').sum()\n",
    "total_before = len(df_merged)\n",
    "\n",
    "print(f\"Records to delete (App. = 'N'): {records_to_delete}\")\n",
    "print(f\"Total records before deletion: {total_before}\")\n",
    "\n",
    "df_merged = df_merged[df_merged['App.'] != 'N']\n",
    "\n",
    "total_after = len(df_merged)\n",
    "print(f\"Total records after deletion: {total_after}\")\n",
    "print(f\"Records deleted: {total_before - total_after}\")\n",
    "\n",
    "remaining_n = (df_merged['App.'] == 'N').sum()\n",
    "print(f\"Remaining records with App. = 'N': {remaining_n}\")"
   ]
  },
  {
   "cell_type": "code",
   "execution_count": 33,
   "id": "1c5eb055-5c5c-42e1-b3cb-1d162ab530c6",
   "metadata": {},
   "outputs": [],
   "source": [
    "df_merged[\"Term_Group\"] = df[\"Term_Group\"]"
   ]
  },
  {
   "cell_type": "markdown",
   "id": "35c13c48-eed9-4408-9a20-249721f0b53e",
   "metadata": {},
   "source": [
    "### Renaming or Correcting Species Names"
   ]
  },
  {
   "cell_type": "code",
   "execution_count": 34,
   "id": "ed3e24fe-3d3a-42b6-95aa-1f4b95c8de48",
   "metadata": {},
   "outputs": [
    {
     "name": "stdout",
     "output_type": "stream",
     "text": [
      "Top 5 Reptile Taxa:\n",
      "                          Taxon  \\\n",
      "5    Alligator mississippiensis   \n",
      "377            Varanus salvator   \n",
      "216    Malayopython reticulatus   \n",
      "369           Varanus niloticus   \n",
      "111        Crocodylus niloticus   \n",
      "\n",
      "                                          EnglishNames  Count  \n",
      "5                            American Alligator, Gator   9339  \n",
      "377  Common Water Monitor, Malayan Monitor, No-mark...   5208  \n",
      "216  Asian reticulated python, Java Rock Python, Re...   4472  \n",
      "369           African Small-grain Lizard, Nile Monitor   2984  \n",
      "111                  African Crocodile, Nile Crocodile   1677  \n"
     ]
    }
   ],
   "source": [
    "reptiles_df = df_merged[df_merged['Class'] == 'Reptilia']\n",
    "\n",
    "top_reptiles = reptiles_df.groupby(['Taxon', 'EnglishNames']).size().reset_index(name='Count')\n",
    "top_reptiles = top_reptiles.sort_values('Count', ascending=False).head(5)\n",
    "\n",
    "print(\"Top 5 Reptile Taxa:\")\n",
    "print(top_reptiles[['Taxon', 'EnglishNames', 'Count']])"
   ]
  },
  {
   "cell_type": "code",
   "execution_count": 35,
   "id": "97c169d9-ea2a-4a4c-be14-766903dd1ac3",
   "metadata": {},
   "outputs": [
    {
     "name": "stdout",
     "output_type": "stream",
     "text": [
      "Top 5 Reptile Taxa:\n",
      "                     Taxon         EnglishName  Count\n",
      "Alligator mississippiensis  American alligator   9339\n",
      "          Varanus salvator Asian water monitor   5208\n",
      "  Malayopython reticulatus        Asian python   4472\n",
      "         Varanus niloticus        Nile monitor   2984\n",
      "      Crocodylus niloticus      Nile crocodile   1677\n"
     ]
    }
   ],
   "source": [
    "reptiles_df = df_merged[df_merged['Class'] == 'Reptilia']\n",
    "\n",
    "top_reptiles = reptiles_df.groupby(['Taxon', 'EnglishNames']).size().reset_index(name='Count')\n",
    "top_reptiles = top_reptiles.sort_values('Count', ascending=False).head(5)\n",
    "\n",
    "name_mapping = {\n",
    "    'Alligator mississippiensis': 'American alligator',\n",
    "    'Varanus salvator': 'Asian water monitor', \n",
    "    'Malayopython reticulatus': 'Asian python',\n",
    "    'Varanus niloticus': 'Nile monitor',\n",
    "    'Crocodylus niloticus': 'Nile crocodile'\n",
    "}\n",
    "\n",
    "top_reptiles['EnglishName'] = top_reptiles['Taxon'].map(name_mapping)\n",
    "\n",
    "print(\"Top 5 Reptile Taxa:\")\n",
    "print(top_reptiles[['Taxon', 'EnglishName', 'Count']].to_string(index=False))"
   ]
  },
  {
   "cell_type": "code",
   "execution_count": 36,
   "id": "8e2c6c8d-742e-4cf6-9a3e-25d3bdac51e7",
   "metadata": {},
   "outputs": [
    {
     "name": "stdout",
     "output_type": "stream",
     "text": [
      "Top 5 Mammal Taxa:\n",
      "                 Taxon                                   EnglishNames  Count\n",
      "       Vicugna vicugna                        Vicugna, Vicuna, Vicuña   2029\n",
      "    Loxodonta africana    African Elephant, African Savannah Elephant   1684\n",
      "      Ursus americanus                            American Black Bear   1452\n",
      "Hippopotamus amphibius Common hippopotamus, Hippopotamus, Large Hippo   1417\n",
      "Giraffa camelopardalis                                        Giraffe   1366\n"
     ]
    }
   ],
   "source": [
    "mammals_df = df_merged[df_merged['Class'] == 'Mammalia']\n",
    "\n",
    "top_mammals = mammals_df.groupby(['Taxon', 'EnglishNames']).size().reset_index(name='Count')\n",
    "top_mammals = top_mammals.sort_values('Count', ascending=False).head(5)\n",
    "\n",
    "print(\"Top 5 Mammal Taxa:\")\n",
    "print(top_mammals[['Taxon', 'EnglishNames', 'Count']].to_string(index=False))"
   ]
  },
  {
   "cell_type": "code",
   "execution_count": 37,
   "id": "9e34040c-399b-4cdf-b334-2088c8cce313",
   "metadata": {},
   "outputs": [
    {
     "name": "stdout",
     "output_type": "stream",
     "text": [
      "Top 5 Mammal Taxa:\n",
      "                 Taxon         EnglishName  Count\n",
      "       Vicugna vicugna        Lama vicugna   2029\n",
      "    Loxodonta africana    African Elephant   1684\n",
      "      Ursus americanus American Black Bear   1452\n",
      "Hippopotamus amphibius         Large Hippo   1417\n",
      "Giraffa camelopardalis             Giraffe   1366\n"
     ]
    }
   ],
   "source": [
    "mammals_df = df_merged[df_merged['Class'] == 'Mammalia']\n",
    "\n",
    "top_mammals = mammals_df.groupby(['Taxon', 'EnglishNames']).size().reset_index(name='Count')\n",
    "top_mammals = top_mammals.sort_values('Count', ascending=False).head(5)\n",
    "\n",
    "name_mapping = {\n",
    "    'Vicugna vicugna': 'Lama vicugna',\n",
    "    'Loxodonta africana': 'African Elephant',\n",
    "    'Ursus americanus': 'American Black Bear',\n",
    "    'Hippopotamus amphibius': 'Large Hippo',\n",
    "    'Giraffa camelopardalis': 'Giraffe'\n",
    "}\n",
    "\n",
    "top_mammals['EnglishName'] = top_mammals['Taxon'].map(name_mapping)\n",
    "\n",
    "print(\"Top 5 Mammal Taxa:\")\n",
    "print(top_mammals[['Taxon', 'EnglishName', 'Count']].to_string(index=False))"
   ]
  },
  {
   "cell_type": "code",
   "execution_count": 38,
   "id": "94292267-2f14-42f8-bf3f-9969d093bb69",
   "metadata": {},
   "outputs": [
    {
     "name": "stdout",
     "output_type": "stream",
     "text": [
      "Top 5 Coral Taxa:\n",
      "                  Taxon                                               EnglishNames  Count\n",
      "       Euphyllia ancora                                 Anchor Coral, Hammer Coral    568\n",
      "Trachyphyllia geoffroyi Crater Coral, Folded Coral, Open brain coral, Puffed Coral    529\n",
      " Catalaphyllia jardinei                                              Elegant Coral    474\n",
      "      Plerogyra sinuosa                                              Bladder Coral    432\n",
      "       Euphyllia divisa                                            Frogspawn Coral    428\n"
     ]
    }
   ],
   "source": [
    "corals_df = df_merged[df_merged['Class'] == 'Anthozoa']\n",
    "\n",
    "top_corals = corals_df.groupby(['Taxon', 'EnglishNames']).size().reset_index(name='Count')\n",
    "top_corals = top_corals.sort_values('Count', ascending=False).head(5)\n",
    "\n",
    "print(\"Top 5 Coral Taxa:\")\n",
    "print(top_corals[['Taxon', 'EnglishNames', 'Count']].to_string(index=False))"
   ]
  },
  {
   "cell_type": "code",
   "execution_count": 39,
   "id": "ce6d3d65-6610-4d3e-9f96-e2f66f5282b2",
   "metadata": {},
   "outputs": [
    {
     "name": "stdout",
     "output_type": "stream",
     "text": [
      "Top 5 Coral Taxa:\n",
      "                  Taxon     EnglishName  Count\n",
      "       Euphyllia ancora    Hammer Coral    568\n",
      "Trachyphyllia geoffroyi    Puffed Coral    529\n",
      " Catalaphyllia jardinei   Elegant Coral    474\n",
      "      Plerogyra sinuosa   Bladder Coral    432\n",
      "       Euphyllia divisa Frogspawn Coral    428\n"
     ]
    }
   ],
   "source": [
    "corals_df = df_merged[df_merged['Class'] == 'Anthozoa']\n",
    "\n",
    "top_corals = corals_df.groupby(['Taxon', 'EnglishNames']).size().reset_index(name='Count')\n",
    "top_corals = top_corals.sort_values('Count', ascending=False).head(5)\n",
    "\n",
    "name_mapping = {\n",
    "    'Euphyllia ancora': 'Hammer Coral',\n",
    "    'Trachyphyllia geoffroyi': 'Puffed Coral',\n",
    "    'Catalaphyllia jardinei': 'Elegant Coral',\n",
    "    'Plerogyra sinuosa': 'Bladder Coral',\n",
    "    'Euphyllia divisa': 'Frogspawn Coral'\n",
    "}\n",
    "\n",
    "top_corals['EnglishName'] = top_corals['Taxon'].map(name_mapping)\n",
    "\n",
    "print(\"Top 5 Coral Taxa:\")\n",
    "print(top_corals[['Taxon', 'EnglishName', 'Count']].to_string(index=False))"
   ]
  },
  {
   "cell_type": "code",
   "execution_count": 40,
   "id": "249e6eaf-29a0-4798-85fa-de5fbdcfe714",
   "metadata": {},
   "outputs": [
    {
     "name": "stdout",
     "output_type": "stream",
     "text": [
      "Top 5 Coral Taxa:\n",
      "                  Taxon     EnglishName  Count\n",
      "       Euphyllia ancora    Hammer Coral    568\n",
      "Trachyphyllia geoffroyi    Puffed Coral    529\n",
      " Catalaphyllia jardinei   Elegant Coral    474\n",
      "      Plerogyra sinuosa   Bladder Coral    432\n",
      "       Euphyllia divisa Frogspawn Coral    428\n"
     ]
    }
   ],
   "source": [
    "corals_df = df_merged[df_merged['Class'] == 'Anthozoa']\n",
    "\n",
    "top_corals = corals_df.groupby(['Taxon', 'EnglishNames']).size().reset_index(name='Count')\n",
    "top_corals = top_corals.sort_values('Count', ascending=False).head(5)\n",
    "\n",
    "name_mapping = {\n",
    "    'Euphyllia ancora': 'Hammer Coral',\n",
    "    'Trachyphyllia geoffroyi': 'Puffed Coral',\n",
    "    'Catalaphyllia jardinei': 'Elegant Coral',\n",
    "    'Plerogyra sinuosa': 'Bladder Coral',\n",
    "    'Euphyllia divisa': 'Frogspawn Coral'\n",
    "}\n",
    "\n",
    "top_corals['EnglishName'] = top_corals['Taxon'].map(name_mapping)\n",
    "\n",
    "print(\"Top 5 Coral Taxa:\")\n",
    "print(top_corals[['Taxon', 'EnglishName', 'Count']].to_string(index=False))\n"
   ]
  },
  {
   "cell_type": "code",
   "execution_count": 41,
   "id": "0688e322-baf6-4c33-a62e-ba0c5fced9c2",
   "metadata": {},
   "outputs": [
    {
     "name": "stdout",
     "output_type": "stream",
     "text": [
      "Top 5 Bird Taxa:\n",
      "                  Taxon                                                        EnglishNames  Count\n",
      "    Psittacus erithacus                           African grey parrot, Grey Parrot, Jacquot    274\n",
      "           Ara ararauna                          Blue-and-gold Macaw, Blue-and-yellow Macaw    234\n",
      "       Ara chloropterus                             Green-winged Macaw, Red-and-green Macaw    205\n",
      "   Amazona ochrocephala Yellow-crowned Amazon, Yellow-crowned Parrot, Yellow-fronted Amazon    173\n",
      "Pionites melanocephalus                            Black-headed Caique, Black-headed Parrot    148\n"
     ]
    }
   ],
   "source": [
    "birds_df = df_merged[df_merged['Class'] == 'Aves']\n",
    "\n",
    "top_birds = birds_df.groupby(['Taxon', 'EnglishNames']).size().reset_index(name='Count')\n",
    "top_birds = top_birds.sort_values('Count', ascending=False).head(5)\n",
    "\n",
    "print(\"Top 5 Bird Taxa:\")\n",
    "print(top_birds[['Taxon', 'EnglishNames', 'Count']].to_string(index=False))"
   ]
  },
  {
   "cell_type": "code",
   "execution_count": 42,
   "id": "1966f922-901c-4a7d-bf4d-fc13700740d7",
   "metadata": {},
   "outputs": [
    {
     "name": "stdout",
     "output_type": "stream",
     "text": [
      "Top 5 Bird Taxa:\n",
      "                  Taxon           EnglishName  Count\n",
      "    Psittacus erithacus   African grey parrot    274\n",
      "           Ara ararauna       Blue gold Macaw    234\n",
      "       Ara chloropterus    Green winged Macaw    205\n",
      "   Amazona ochrocephala Yellow crowned Amazon    173\n",
      "Pionites melanocephalus   Black headed Parrot    148\n"
     ]
    }
   ],
   "source": [
    "birds_df = df_merged[df_merged['Class'] == 'Aves']\n",
    "\n",
    "top_birds = birds_df.groupby(['Taxon', 'EnglishNames']).size().reset_index(name='Count')\n",
    "top_birds = top_birds.sort_values('Count', ascending=False).head(5)\n",
    "\n",
    "name_mapping = {\n",
    "    'Psittacus erithacus': 'African grey parrot',\n",
    "    'Ara ararauna': 'Blue gold Macaw',\n",
    "    'Ara chloropterus': 'Green winged Macaw',\n",
    "    'Amazona ochrocephala': 'Yellow crowned Amazon',\n",
    "    'Pionites melanocephalus': 'Black headed Parrot'\n",
    "}\n",
    "\n",
    "top_birds['EnglishName'] = top_birds['Taxon'].map(name_mapping)\n",
    "\n",
    "print(\"Top 5 Bird Taxa:\")\n",
    "print(top_birds[['Taxon', 'EnglishName', 'Count']].to_string(index=False))"
   ]
  },
  {
   "cell_type": "code",
   "execution_count": 43,
   "id": "db7feb97-1e72-4531-b4d1-19148ca68b90",
   "metadata": {},
   "outputs": [
    {
     "name": "stdout",
     "output_type": "stream",
     "text": [
      "Top 5 Shark and Ray Taxa:\n",
      "                   Taxon                                                                                                                                                                   EnglishNames  Count\n",
      "       Isurus oxyrinchus                                                                                                                                                            Mako, Shortfin mako    343\n",
      "Carcharhinus falciformis                                                                                                                                                                    Silky shark    248\n",
      "          Sphyrna lewini Bronze hammerhead shark, gebuchteter Hammerhai, Hammerhead, Hammerhead shark, Kidney-headed shark, Scalloped hammerhead, Scalloped hammerhead shark, Southern hammerhead shark    169\n",
      "     Potamotrygon motoro                                                                                                                                                        Ocellate river stingray    122\n",
      "         Sphyrna zygaena                                                                                                                                     Smooth hammerhead, Smooth hammerhead shark     92\n"
     ]
    }
   ],
   "source": [
    "sharks_rays_df = df_merged[df_merged['Class'] == 'Elasmobranchii']\n",
    "\n",
    "top_sharks_rays = sharks_rays_df.groupby(['Taxon', 'EnglishNames']).size().reset_index(name='Count')\n",
    "top_sharks_rays = top_sharks_rays.sort_values('Count', ascending=False).head(5)\n",
    "\n",
    "print(\"Top 5 Shark and Ray Taxa:\")\n",
    "print(top_sharks_rays[['Taxon', 'EnglishNames', 'Count']].to_string(index=False))"
   ]
  },
  {
   "cell_type": "code",
   "execution_count": 44,
   "id": "6e4f124b-e0c1-4b3d-951b-ee2f3e3657b0",
   "metadata": {},
   "outputs": [
    {
     "name": "stdout",
     "output_type": "stream",
     "text": [
      "Top 5 Shark and Ray Taxa:\n",
      "                   Taxon             EnglishName  Count\n",
      "       Isurus oxyrinchus              Mako Shark    343\n",
      "Carcharhinus falciformis             Silky shark    248\n",
      "          Sphyrna lewini Bronze hammerhead shark    169\n",
      "     Potamotrygon motoro          River stingray    122\n",
      "         Sphyrna zygaena Smooth hammerhead shark     92\n"
     ]
    }
   ],
   "source": [
    "sharks_rays_df = df_merged[df_merged['Class'] == 'Elasmobranchii']\n",
    "\n",
    "top_sharks_rays = sharks_rays_df.groupby(['Taxon', 'EnglishNames']).size().reset_index(name='Count')\n",
    "top_sharks_rays = top_sharks_rays.sort_values('Count', ascending=False).head(5)\n",
    "\n",
    "name_mapping = {\n",
    "    'Isurus oxyrinchus': 'Mako Shark',\n",
    "    'Carcharhinus falciformis': 'Silky shark',\n",
    "    'Sphyrna lewini': 'Bronze hammerhead shark',\n",
    "    'Potamotrygon motoro': 'River stingray',\n",
    "    'Sphyrna zygaena': 'Smooth hammerhead shark'\n",
    "}\n",
    "\n",
    "top_sharks_rays['EnglishName'] = top_sharks_rays['Taxon'].map(name_mapping)\n",
    "\n",
    "print(\"Top 5 Shark and Ray Taxa:\")\n",
    "print(top_sharks_rays[['Taxon', 'EnglishName', 'Count']].to_string(index=False))"
   ]
  },
  {
   "cell_type": "code",
   "execution_count": 45,
   "id": "28f7159b-cdf9-43bb-9c87-96a97a572d2d",
   "metadata": {},
   "outputs": [
    {
     "name": "stdout",
     "output_type": "stream",
     "text": [
      "Unique values in Purpose_EN:\n",
      "['Scientific' 'Educational' 'Circus or travelling exhibition' 'Commercial'\n",
      " 'Personal' 'Hunting trophy' 'Medical (including biomedical research)'\n",
      " 'Zoo' 'Reintroduction or introduction into the wild' nan\n",
      " 'Breeding in captivity or artificial propagation'\n",
      " 'Law enforcement/judicial/forensic' 'Botanical garden']\n"
     ]
    }
   ],
   "source": [
    "unique_purposes = df_merged['Purpose_EN'].unique()\n",
    "\n",
    "print(\"Unique values in Purpose_EN:\")\n",
    "print(unique_purposes)\n"
   ]
  },
  {
   "cell_type": "markdown",
   "id": "f98e7505-bd58-40af-8fb1-34ecfcd23770",
   "metadata": {},
   "source": [
    "### Standardizing Purpose Names"
   ]
  },
  {
   "cell_type": "code",
   "execution_count": 46,
   "id": "949dbf15-3f82-471f-9cb6-2013a010eed7",
   "metadata": {},
   "outputs": [
    {
     "name": "stdout",
     "output_type": "stream",
     "text": [
      "Scientific\n",
      "Educational\n",
      "Circus /exhibition\n",
      "Commercial\n",
      "Personal\n",
      "Hunting trophy\n",
      "Medical\n",
      "Zoo\n",
      "Reintroduction\n",
      "Unspecified\n",
      "Breeding in captivity\n",
      "Law enforcement\n",
      "Botanical garden\n"
     ]
    }
   ],
   "source": [
    "import pandas as pd\n",
    "import numpy as np\n",
    "\n",
    "purpose_mapping = {\n",
    "    \"Circus or travelling exhibition\": \"Circus /exhibition\",\n",
    "    \"Reintroduction or introduction into the wild\": \"Reintroduction\",\n",
    "    \"Breeding in captivity or artificial propagation\": \"Breeding in captivity\",\n",
    "    \"Law enforcement/judicial/forensic\": \"Law enforcement\",\n",
    "    \"Medical (including biomedical research)\": \"Medical\",\n",
    "    pd.NA: \"Unspecified\",\n",
    "    float('nan'): \"Unspecified\"\n",
    "}\n",
    "\n",
    "df_merged['Purpose_EN'] = df_merged['Purpose_EN'].replace(purpose_mapping)\n",
    "df_merged['Purpose_EN'] = df_merged['Purpose_EN'].str.strip()\n",
    "unique_purposes = df_merged['Purpose_EN'].unique()\n",
    "for purpose in unique_purposes:\n",
    "    print(purpose)\n"
   ]
  },
  {
   "cell_type": "code",
   "execution_count": 47,
   "id": "ef27bd52-a258-4850-aa10-4ed66603240e",
   "metadata": {},
   "outputs": [],
   "source": [
    "name_mapping_reptiles = {\n",
    "    'Alligator mississippiensis': 'American alligator',\n",
    "    'Varanus salvator': 'Asian water monitor', \n",
    "    'Malayopython reticulatus': 'Asian python',\n",
    "    'Varanus niloticus': 'Nile monitor',\n",
    "    'Crocodylus niloticus': 'Nile crocodile'\n",
    "}\n",
    "\n",
    "name_mapping_mammals = {\n",
    "    'Vicugna vicugna': 'Lama vicugna',\n",
    "    'Loxodonta africana': 'African Elephant',\n",
    "    'Ursus americanus': 'American Black Bear',\n",
    "    'Hippopotamus amphibius': 'Large Hippo',\n",
    "    'Giraffa camelopardalis': 'Giraffe'\n",
    "}\n",
    "\n",
    "name_mapping_corals = {\n",
    "    'Euphyllia ancora': 'Hammer Coral',\n",
    "    'Trachyphyllia geoffroyi': 'Puffed Coral',\n",
    "    'Catalaphyllia jardinei': 'Elegant Coral',\n",
    "    'Plerogyra sinuosa': 'Bladder Coral',\n",
    "    'Euphyllia divisa': 'Frogspawn Coral'\n",
    "}\n",
    "\n",
    "name_mapping_birds = {\n",
    "    'Psittacus erithacus': 'African grey parrot',\n",
    "    'Ara ararauna': 'Blue gold Macaw',\n",
    "    'Ara chloropterus': 'Green winged Macaw',\n",
    "    'Amazona ochrocephala': 'Yellow crowned Amazon',\n",
    "    'Pionites melanocephalus': 'Black headed Parrot'\n",
    "}\n",
    "\n",
    "name_mapping_sharks_rays = {\n",
    "    'Isurus oxyrinchus': 'Mako Shark',\n",
    "    'Carcharhinus falciformis': 'Silky shark',\n",
    "    'Sphyrna lewini': 'Bronze hammerhead shark',\n",
    "    'Potamotrygon motoro': 'River stingray',\n",
    "    'Sphyrna zygaena': 'Smooth hammerhead shark'\n",
    "}\n",
    "\n",
    "df_merged.loc[df_merged['Class'] == 'Reptilia', 'EnglishNames'] = df_merged.loc[df_merged['Class'] == 'Reptilia', 'Taxon'].map(name_mapping_reptiles)\n",
    "df_merged.loc[df_merged['Class'] == 'Mammalia', 'EnglishNames'] = df_merged.loc[df_merged['Class'] == 'Mammalia', 'Taxon'].map(name_mapping_mammals)\n",
    "df_merged.loc[df_merged['Class'] == 'Anthozoa', 'EnglishNames'] = df_merged.loc[df_merged['Class'] == 'Anthozoa', 'Taxon'].map(name_mapping_corals)\n",
    "df_merged.loc[df_merged['Class'] == 'Aves', 'EnglishNames'] = df_merged.loc[df_merged['Class'] == 'Aves', 'Taxon'].map(name_mapping_birds)\n",
    "df_merged.loc[df_merged['Class'] == 'Elasmobranchii', 'EnglishNames'] = df_merged.loc[df_merged['Class'] == 'Elasmobranchii', 'Taxon'].map(name_mapping_sharks_rays)\n"
   ]
  },
  {
   "cell_type": "code",
   "execution_count": 48,
   "id": "b09b79f6-fdd8-4a2b-b4a9-c3417a6c078f",
   "metadata": {},
   "outputs": [
    {
     "name": "stdout",
     "output_type": "stream",
     "text": [
      "\n",
      "Top 5 Taxa for Class: Reptilia\n",
      "                     Taxon        EnglishNames  Count\n",
      "Alligator mississippiensis  American alligator   9339\n",
      "          Varanus salvator Asian water monitor   5208\n",
      "  Malayopython reticulatus        Asian python   4472\n",
      "         Varanus niloticus        Nile monitor   2984\n",
      "      Crocodylus niloticus      Nile crocodile   1677\n",
      "\n",
      "Top 5 Taxa for Class: Aves\n",
      "                  Taxon          EnglishNames  Count\n",
      "    Psittacus erithacus   African grey parrot    274\n",
      "           Ara ararauna       Blue gold Macaw    234\n",
      "       Ara chloropterus    Green winged Macaw    205\n",
      "   Amazona ochrocephala Yellow crowned Amazon    173\n",
      "Pionites melanocephalus   Black headed Parrot    148\n",
      "\n",
      "Top 5 Taxa for Class: Elasmobranchii\n",
      "                   Taxon            EnglishNames  Count\n",
      "       Isurus oxyrinchus              Mako Shark    343\n",
      "Carcharhinus falciformis             Silky shark    248\n",
      "          Sphyrna lewini Bronze hammerhead shark    169\n",
      "     Potamotrygon motoro          River stingray    122\n",
      "         Sphyrna zygaena Smooth hammerhead shark     92\n",
      "\n",
      "Top 5 Taxa for Class: Anthozoa\n",
      "                  Taxon    EnglishNames  Count\n",
      "       Euphyllia ancora    Hammer Coral    568\n",
      "Trachyphyllia geoffroyi    Puffed Coral    529\n",
      " Catalaphyllia jardinei   Elegant Coral    474\n",
      "      Plerogyra sinuosa   Bladder Coral    432\n",
      "       Euphyllia divisa Frogspawn Coral    428\n",
      "\n",
      "Top 5 Taxa for Class: Mammalia\n",
      "                 Taxon        EnglishNames  Count\n",
      "       Vicugna vicugna        Lama vicugna   2029\n",
      "    Loxodonta africana    African Elephant   1684\n",
      "      Ursus americanus American Black Bear   1452\n",
      "Hippopotamus amphibius         Large Hippo   1417\n",
      "Giraffa camelopardalis             Giraffe   1366\n"
     ]
    }
   ],
   "source": [
    "classes_of_interest = ['Reptilia', 'Aves', 'Elasmobranchii', 'Anthozoa', 'Mammalia']\n",
    "\n",
    "for cls in classes_of_interest:\n",
    "    class_df = df_merged[df_merged['Class'] == cls]\n",
    "    \n",
    "    top_taxa = class_df.groupby(['Taxon', 'EnglishNames']).size().reset_index(name='Count')\n",
    "    top_taxa = top_taxa.sort_values('Count', ascending=False).head(5)\n",
    "    \n",
    "    print(f\"\\nTop 5 Taxa for Class: {cls}\")\n",
    "    print(top_taxa[['Taxon', 'EnglishNames', 'Count']].to_string(index=False))\n"
   ]
  },
  {
   "cell_type": "code",
   "execution_count": 49,
   "id": "f1c18d13-dae0-4cbb-aa0f-6ea6bd6df411",
   "metadata": {},
   "outputs": [],
   "source": [
    "name_mapping = {\n",
    "    'Scleractinia spp.': 'Stony corals',\n",
    "    'Goniopora spp.': 'Flowerpot coral',\n",
    "    'Acropora spp.': 'Table coral',\n",
    "    'Euphyllia glabrescens': 'Torch coral',\n",
    "    'Fungia spp.': 'Mushroom coral'\n",
    "}\n",
    "\n",
    "df_merged['EnglishNames'] = df_merged['Taxon'].map(name_mapping).fillna(df_merged['EnglishNames'])\n"
   ]
  },
  {
   "cell_type": "markdown",
   "id": "b4f4a92f-4a8d-4b98-84b0-a00b4450347c",
   "metadata": {},
   "source": [
    "### Counting Missing Threat and Protection Data"
   ]
  },
  {
   "cell_type": "code",
   "execution_count": 50,
   "id": "f163344a-96a1-4d47-9322-b9c953b61a23",
   "metadata": {},
   "outputs": [],
   "source": [
    "app_dict_simple = {\n",
    "    \"I\": {\"Threat_Status\": \"Endangered\", \"Protection_Level\": \"High\"},\n",
    "    \"II\": {\"Threat_Status\": \"Vulnerable\", \"Protection_Level\": \"Medium\"},\n",
    "    \"III\": {\"Threat_Status\": \"Protected\", \"Protection_Level\": \"Low\"}\n",
    "}\n",
    "\n",
    "def fill_missing(row):\n",
    "    if pd.isna(row['Threat_Status']) and pd.isna(row['Protection_Level']):\n",
    "        app = row['App.']\n",
    "        if app in app_dict_simple:\n",
    "            row['Threat_Status'] = app_dict_simple[app]['Threat_Status']\n",
    "            row['Protection_Level'] = app_dict_simple[app]['Protection_Level']\n",
    "    return row\n",
    "\n",
    "df_merged = df_merged.apply(fill_missing, axis=1)\n"
   ]
  },
  {
   "cell_type": "code",
   "execution_count": 51,
   "id": "ae97fb20-11a2-4b2a-8de5-f57411cc1ca5",
   "metadata": {},
   "outputs": [
    {
     "name": "stdout",
     "output_type": "stream",
     "text": [
      "0\n"
     ]
    }
   ],
   "source": [
    "missing_count = df_merged[\n",
    "    df_merged['Threat_Status'].isna() & df_merged['Protection_Level'].isna()\n",
    "].shape[0]\n",
    "\n",
    "print(missing_count)\n"
   ]
  },
  {
   "cell_type": "code",
   "execution_count": 52,
   "id": "837178d2-11a3-44b2-b827-c2b4c61c73bf",
   "metadata": {},
   "outputs": [],
   "source": [
    "df_merged.to_csv(\"CITES WILDLIFE TRADE2.csv\", index=False)\n"
   ]
  },
  {
   "cell_type": "code",
   "execution_count": 53,
   "id": "1c2f5f25-3c01-4a8d-aa97-283b0608c1e4",
   "metadata": {},
   "outputs": [
    {
     "name": "stdout",
     "output_type": "stream",
     "text": [
      "   Year App.                 Taxon     Class          Order         Family  \\\n",
      "0  2019    I  Haliaeetus albicilla      Aves  Falconiformes   Accipitridae   \n",
      "1  2019    I        Harpia harpyja      Aves  Falconiformes   Accipitridae   \n",
      "2  2019    I        Harpia harpyja      Aves  Falconiformes   Accipitridae   \n",
      "3  2019    I        Harpia harpyja      Aves  Falconiformes   Accipitridae   \n",
      "4  2019    I    Alligator sinensis  Reptilia     Crocodylia  Alligatoridae   \n",
      "\n",
      "        Genus Importer Exporter Origin  ...  Exporter_EN      Origin_EN  \\\n",
      "0  Haliaeetus       IS       DK     XX  ...      Denmark        Unknown   \n",
      "1      Harpia       FR       CH     MO  ...  Switzerland          Macau   \n",
      "2      Harpia       FR       CH     XX  ...  Switzerland        Unknown   \n",
      "3      Harpia       TT       SR    NaN  ...     Suriname       Suriname   \n",
      "4   Alligator       CH       SI     US  ...     Slovenia  United States   \n",
      "\n",
      "           Purpose_EN Source_EN Threat_Status Protection_Level  \\\n",
      "0          Scientific      Wild    Endangered             High   \n",
      "1         Educational   unknown    Endangered             High   \n",
      "2  Circus /exhibition   unknown    Endangered             High   \n",
      "3         Educational      Wild    Endangered             High   \n",
      "4          Commercial      Wild    Endangered             High   \n",
      "\n",
      "               FullName EnglishNames CurrentListing             Term_Group  \n",
      "0  Haliaeetus albicilla          NaN              I            Unspecified  \n",
      "1        Harpia harpyja          NaN              I         Raw Body Parts  \n",
      "2        Harpia harpyja          NaN              I         Raw Body Parts  \n",
      "3        Harpia harpyja          NaN              I         Raw Body Parts  \n",
      "4    Alligator sinensis          NaN              I  Manufactured Products  \n",
      "\n",
      "[5 rows x 29 columns]\n"
     ]
    }
   ],
   "source": [
    "print(df_merged.head())"
   ]
  },
  {
   "cell_type": "code",
   "execution_count": 54,
   "id": "68c59db4-b676-49a8-a48d-c36825b67a0b",
   "metadata": {},
   "outputs": [
    {
     "name": "stderr",
     "output_type": "stream",
     "text": [
      "C:\\Users\\Lenovo\\AppData\\Local\\Temp\\ipykernel_11192\\943478167.py:41: UserWarning: This pattern is interpreted as a regular expression, and has match groups. To actually get the groups, use str.extract.\n",
      "  sens_always = term_lc.str.contains(r\"\\b(ivory|tusk|piano keys|jewell?ery\\s*-\\s*ivory|ivory carv(ing|ings)?|ivory piece(s)?|horns?|horn piece(s)?|horn carv(ing|ings)?|troph(y|ies)|sawfish rostrum)\\b\")\n",
      "C:\\Users\\Lenovo\\AppData\\Local\\Temp\\ipykernel_11192\\943478167.py:43: UserWarning: This pattern is interpreted as a regular expression, and has match groups. To actually get the groups, use str.extract.\n",
      "  walrus_like   = tax_lc.str.contains(r\"\\bodoben(us|us)\\s+rosmarus\\b\")\n",
      "C:\\Users\\Lenovo\\AppData\\Local\\Temp\\ipykernel_11192\\943478167.py:49: UserWarning: This pattern is interpreted as a regular expression, and has match groups. To actually get the groups, use str.extract.\n",
      "  hard_parts = term_lc.str.contains(r\"\\b(teeth?|skulls?|bones?|bone pieces?|bone carv(ing|ings)?)\\b\")\n",
      "C:\\Users\\Lenovo\\AppData\\Local\\Temp\\ipykernel_11192\\943478167.py:53: UserWarning: This pattern is interpreted as a regular expression, and has match groups. To actually get the groups, use str.extract.\n",
      "  textile_terms = term_lc.str.contains(r\"\\b(cloth|garment|fibre|fiber|yarn|textile|fabric)\\b\")\n"
     ]
    },
    {
     "name": "stdout",
     "output_type": "stream",
     "text": [
      "Enforcement Weakness (final):\n",
      "- Low: 13049 (11.61%)\n",
      "- Medium: 83689 (74.46%)\n",
      "- High: 5960 (5.3%)\n",
      "- Critical: 9699 (8.63%)\n",
      "Total: 112397\n",
      "\n",
      "By Appendix:\n",
      "EnforcementWeaknessFinal   Low  Medium  High  Critical   Total\n",
      "Appendix                                                      \n",
      "I                         1875      75    18      2334    4302\n",
      "II                        8529   81902  5942      7365  103738\n",
      "III                       2645    1712     0         0    4357\n"
     ]
    }
   ],
   "source": [
    "import pandas as pd, numpy as np, re\n",
    "\n",
    "df = df_merged.copy() \n",
    "\n",
    "def norm_app(a):\n",
    "    s = str(a).upper()\n",
    "    s = s.replace(\"APPENDIX\",\"\").replace(\"ANNEX\",\"\").replace(\"APP.\",\"\").replace(\"APP\",\"\").replace(\".\",\"\").strip()\n",
    "    if re.fullmatch(r\"I{3}\", s): return \"III\"\n",
    "    if re.fullmatch(r\"II\", s): return \"II\"\n",
    "    if re.fullmatch(r\"I\", s): return \"I\"\n",
    "    return \"UNK\"\n",
    "\n",
    "def norm_purpose(p):\n",
    "    x = str(p).strip().upper()\n",
    "    m = {\n",
    "        \"T\":\"T\",\"COMMERCIAL\":\"T\",\n",
    "        \"P\":\"P\",\"PERSONAL\":\"P\",\n",
    "        \"Q\":\"Q\",\"ENTERTAINMENT\":\"Q\",\n",
    "        \"H\":\"H\",\"HUNTING TROPHY\":\"H\",\n",
    "        \"B\":\"B\",\"BREEDING IN CAPTIVITY OR ARTIFICIAL PROPAGATION\":\"B\",\n",
    "        \"M\":\"M\",\"MEDICAL (INCLUDING BIOMEDICAL RESEARCH)\":\"M\",\"MEDICAL\":\"M\",\n",
    "        \"Z\":\"Z\",\"ZOO\":\"Z\",\n",
    "        \"G\":\"G\",\"BOTANICAL GARDEN\":\"G\",\n",
    "        \"S\":\"S\",\"SCIENTIFIC\":\"S\",\n",
    "        \"N\":\"N\",\"REINTRODUCTION OR INTRODUCTION INTO THE WILD\":\"N\",\n",
    "        \"E\":\"E\",\"EDUCATIONAL\":\"E\",\n",
    "        \"L\":\"L\",\"LAW ENFORCEMENT/JUDICIAL/FORENSIC\":\"L\",\n",
    "        \"\":\"\"\n",
    "    }\n",
    "    return m.get(x, x[:1] if x else \"\")\n",
    "\n",
    "app = df.get(\"App.\", \"\").map(norm_app)\n",
    "purp = df.get(\"Purpose\", \"\").map(norm_purpose)\n",
    "term = df.get(\"Term\", \"\").fillna(\"\").astype(str).str.strip()\n",
    "tax  = df.get(\"Taxon\",\"\").fillna(\"\").astype(str).str.strip()\n",
    "exp  = df.get(\"Exporter\",\"\").fillna(\"\").astype(str).str.strip().str.upper()\n",
    "\n",
    "term_lc = term.str.lower()\n",
    "tax_lc  = tax.str.lower()\n",
    "\n",
    "sens_always = term_lc.str.contains(r\"\\b(ivory|tusk|piano keys|jewell?ery\\s*-\\s*ivory|ivory carv(ing|ings)?|ivory piece(s)?|horns?|horn piece(s)?|horn carv(ing|ings)?|troph(y|ies)|sawfish rostrum)\\b\")\n",
    "elephant_like = tax_lc.str.contains(r\"\\belephantidae\\b|\\bloxodonta\\b|\\belephas\\b\")\n",
    "walrus_like   = tax_lc.str.contains(r\"\\bodoben(us|us)\\s+rosmarus\\b\")\n",
    "hippo_like    = tax_lc.str.contains(r\"\\bhippopotamus\\s+amphibius\\b\")\n",
    "whale_like    = tax_lc.str.contains(r\"\\bbalaenoptera\\b\")\n",
    "polar_like    = tax_lc.str.contains(r\"\\bursus\\s+maritimus\\b\")\n",
    "\n",
    "jewellery_only = term_lc.str.fullmatch(r\"\\s*jewell?ery\\s*\")\n",
    "hard_parts = term_lc.str.contains(r\"\\b(teeth?|skulls?|bones?|bone pieces?|bone carv(ing|ings)?)\\b\")\n",
    "\n",
    "sens_cond = (jewellery_only & (elephant_like | walrus_like | hippo_like)) | (hard_parts & (elephant_like | walrus_like | hippo_like | whale_like | polar_like))\n",
    "\n",
    "textile_terms = term_lc.str.contains(r\"\\b(cloth|garment|fibre|fiber|yarn|textile|fabric)\\b\")\n",
    "is_live = term_lc.str.fullmatch(r\"\\s*live\\s*\")\n",
    "vicuna_exception = tax_lc.str.fullmatch(r\"\\svicugna\\s+vicugna\\s*\") & exp.eq(\"PE\") & textile_terms & ~is_live\n",
    "\n",
    "df[\"SensitivityFlag\"] = np.where(vicuna_exception, \"Not Sensitive\", np.where(sens_always | sens_cond, \"Sensitive\", \"Not Sensitive\"))\n",
    "\n",
    "bucket = np.select(\n",
    "    [\n",
    "        purp.isin([\"T\",\"P\",\"Q\"]),\n",
    "        purp.isin([\"H\",\"B\"]),\n",
    "        purp.eq(\"M\"),\n",
    "        purp.isin([\"Z\",\"G\"]),\n",
    "        purp.isin([\"S\",\"N\",\"E\",\"L\"]),\n",
    "        purp.eq(\"\")\n",
    "    ],\n",
    "    [\"TPQ\",\"HB\",\"M\",\"ZG\",\"SNEL\",\"UNSP\"],\n",
    "    default=\"OTHER\"\n",
    ")\n",
    "\n",
    "base_map = {\n",
    "    \"TPQ\": {\"I\":\"Critical\",\"II\":\"Medium\",\"III\":\"Low\"},\n",
    "    \"HB\":  {\"I\":\"Critical\",\"II\":\"High\",\"III\":\"Low\"},\n",
    "    \"M\":   {\"I\":\"High\",\"II\":\"Medium\",\"III\":\"Low\"},\n",
    "    \"ZG\":  {\"I\":\"Medium\",\"II\":\"Low\",\"III\":\"Low\"},\n",
    "    \"SNEL\":{\"I\":\"Low\",\"II\":\"Low\",\"III\":\"Low\"},\n",
    "    \"UNSP\":{\"I\":\"Critical\",\"II\":\"Critical\",\"III\":\"High\"}\n",
    "}\n",
    "\n",
    "def base_level(b,a):\n",
    "    if a not in {\"I\",\"II\",\"III\"}: return \"Medium\"\n",
    "    d = base_map.get(b, None)\n",
    "    if d is None: return \"Medium\"\n",
    "    return d.get(a, \"Medium\")\n",
    "\n",
    "df[\"EnforcementWeaknessBase\"] = [base_level(b,a) for b,a in zip(bucket, app)]\n",
    "\n",
    "order = [\"Low\",\"Medium\",\"High\",\"Critical\"]\n",
    "up1 = {\"Low\":\"Medium\",\"Medium\":\"High\",\"High\":\"Critical\",\"Critical\":\"Critical\"}\n",
    "\n",
    "def escalate(level, appendix, sensitive):\n",
    "    if sensitive != \"Sensitive\": return level\n",
    "    if appendix == \"I\": return \"Critical\"\n",
    "    if appendix == \"II\": return up1.get(level, level)\n",
    "    if appendix == \"III\": return up1.get(level, level)\n",
    "    return level\n",
    "\n",
    "df[\"EnforcementWeaknessFinal\"] = [escalate(l,a,s) for l,a,s in zip(df[\"EnforcementWeaknessBase\"], app, df[\"SensitivityFlag\"])]\n",
    "\n",
    "summary = df[\"EnforcementWeaknessFinal\"].value_counts().reindex(order, fill_value=0)\n",
    "perc = (summary/summary.sum()*100).round(2)\n",
    "print(\"Enforcement Weakness (final):\")\n",
    "for k in order: print(f\"- {k}: {int(summary[k])} ({perc[k]}%)\")\n",
    "print(f\"Total: {int(summary.sum())}\")\n",
    "\n",
    "by_app = df.groupby(app.rename(\"Appendix\"))[\"EnforcementWeaknessFinal\"].value_counts().unstack(fill_value=0).reindex(columns=order, fill_value=0)\n",
    "by_app[\"Total\"] = by_app.sum(axis=1)\n",
    "print(\"\\nBy Appendix:\")\n",
    "print(by_app.to_string())\n",
    "\n",
    "\n",
    "df_merged = df.copy()"
   ]
  },
  {
   "cell_type": "code",
   "execution_count": 55,
   "id": "5ae133a0-a575-4f78-b460-d60110809ca3",
   "metadata": {},
   "outputs": [],
   "source": [
    "df_merged.to_csv(\"trade_data_cleaned.csv\", index=False)\n"
   ]
  },
  {
   "cell_type": "code",
   "execution_count": null,
   "id": "86621588-d4dc-477b-b9dd-9e38b78bbf79",
   "metadata": {},
   "outputs": [],
   "source": []
  }
 ],
 "metadata": {
  "kernelspec": {
   "display_name": "Python [conda env:base] *",
   "language": "python",
   "name": "conda-base-py"
  },
  "language_info": {
   "codemirror_mode": {
    "name": "ipython",
    "version": 3
   },
   "file_extension": ".py",
   "mimetype": "text/x-python",
   "name": "python",
   "nbconvert_exporter": "python",
   "pygments_lexer": "ipython3",
   "version": "3.13.5"
  }
 },
 "nbformat": 4,
 "nbformat_minor": 5
}
